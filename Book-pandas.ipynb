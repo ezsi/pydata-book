{
 "metadata": {
  "name": "",
  "signature": "sha256:a2095f21f882c1443e362ec0b49f6a464e6588c19edd76edc1304b715343f3d2"
 },
 "nbformat": 3,
 "nbformat_minor": 0,
 "worksheets": [
  {
   "cells": [
    {
     "cell_type": "code",
     "collapsed": false,
     "input": [],
     "language": "python",
     "metadata": {},
     "outputs": []
    }
   ],
   "metadata": {}
  }
 ]
}