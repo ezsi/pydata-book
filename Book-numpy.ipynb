{
 "metadata": {
  "name": "",
  "signature": "sha256:ac4d56f2d4291e96bd3f08f63fa2bc4cf495b7629357f3a12574e7faca468a25"
 },
 "nbformat": 3,
 "nbformat_minor": 0,
 "worksheets": [
  {
   "cells": [
    {
     "cell_type": "code",
     "collapsed": false,
     "input": [
      "import numpy as np\n",
      "data1 = [6, 7.5, 8, 0, 1]\n",
      "arr1 = np.array(data1)\n",
      "arr1"
     ],
     "language": "python",
     "metadata": {},
     "outputs": [
      {
       "metadata": {},
       "output_type": "pyout",
       "prompt_number": 3,
       "text": [
        "array([ 6. ,  7.5,  8. ,  0. ,  1. ])"
       ]
      }
     ],
     "prompt_number": 3
    },
    {
     "cell_type": "code",
     "collapsed": false,
     "input": [
      "data2 = [ [1, 2, 3, 4], [5, 6, 7, 8]]\n",
      "arr2 = np.array(data2)\n",
      "arr2"
     ],
     "language": "python",
     "metadata": {},
     "outputs": [
      {
       "metadata": {},
       "output_type": "pyout",
       "prompt_number": 4,
       "text": [
        "array([[1, 2, 3, 4],\n",
        "       [5, 6, 7, 8]])"
       ]
      }
     ],
     "prompt_number": 4
    },
    {
     "cell_type": "code",
     "collapsed": false,
     "input": [
      "arr2.ndim"
     ],
     "language": "python",
     "metadata": {},
     "outputs": [
      {
       "metadata": {},
       "output_type": "pyout",
       "prompt_number": 5,
       "text": [
        "2"
       ]
      }
     ],
     "prompt_number": 5
    },
    {
     "cell_type": "code",
     "collapsed": false,
     "input": [
      "arr2.shape"
     ],
     "language": "python",
     "metadata": {},
     "outputs": [
      {
       "metadata": {},
       "output_type": "pyout",
       "prompt_number": 6,
       "text": [
        "(2, 4)"
       ]
      }
     ],
     "prompt_number": 6
    },
    {
     "cell_type": "code",
     "collapsed": false,
     "input": [
      "arr1.dtype"
     ],
     "language": "python",
     "metadata": {},
     "outputs": [
      {
       "metadata": {},
       "output_type": "pyout",
       "prompt_number": 7,
       "text": [
        "dtype('float64')"
       ]
      }
     ],
     "prompt_number": 7
    },
    {
     "cell_type": "code",
     "collapsed": false,
     "input": [
      "arr2.dtype"
     ],
     "language": "python",
     "metadata": {},
     "outputs": [
      {
       "metadata": {},
       "output_type": "pyout",
       "prompt_number": 8,
       "text": [
        "dtype('int64')"
       ]
      }
     ],
     "prompt_number": 8
    },
    {
     "cell_type": "code",
     "collapsed": false,
     "input": [
      "np.zeros(10)"
     ],
     "language": "python",
     "metadata": {},
     "outputs": [
      {
       "metadata": {},
       "output_type": "pyout",
       "prompt_number": 11,
       "text": [
        "array([ 0.,  0.,  0.,  0.,  0.,  0.,  0.,  0.,  0.,  0.])"
       ]
      }
     ],
     "prompt_number": 11
    },
    {
     "cell_type": "code",
     "collapsed": false,
     "input": [
      "np.ones((3,5))"
     ],
     "language": "python",
     "metadata": {},
     "outputs": [
      {
       "metadata": {},
       "output_type": "pyout",
       "prompt_number": 12,
       "text": [
        "array([[ 1.,  1.,  1.,  1.,  1.],\n",
        "       [ 1.,  1.,  1.,  1.,  1.],\n",
        "       [ 1.,  1.,  1.,  1.,  1.]])"
       ]
      }
     ],
     "prompt_number": 12
    },
    {
     "cell_type": "code",
     "collapsed": false,
     "input": [
      "np.empty( (2, 3, 2))"
     ],
     "language": "python",
     "metadata": {},
     "outputs": [
      {
       "metadata": {},
       "output_type": "pyout",
       "prompt_number": 14,
       "text": [
        "array([[[  6.92818517e-310,   2.00577530e-316],\n",
        "        [  0.00000000e+000,   1.27319747e-313],\n",
        "        [  1.27319747e-313,   1.27319747e-313]],\n",
        "\n",
        "       [[  1.27319747e-313,   1.27319747e-313],\n",
        "        [  6.04857429e-066,   3.54130016e-033],\n",
        "        [  2.59216993e-313,   2.52864469e-052]]])"
       ]
      }
     ],
     "prompt_number": 14
    },
    {
     "cell_type": "code",
     "collapsed": false,
     "input": [
      "np.arange(15)"
     ],
     "language": "python",
     "metadata": {},
     "outputs": [
      {
       "metadata": {},
       "output_type": "pyout",
       "prompt_number": 15,
       "text": [
        "array([ 0,  1,  2,  3,  4,  5,  6,  7,  8,  9, 10, 11, 12, 13, 14])"
       ]
      }
     ],
     "prompt_number": 15
    },
    {
     "cell_type": "code",
     "collapsed": false,
     "input": [
      "np.eye(4)"
     ],
     "language": "python",
     "metadata": {},
     "outputs": [
      {
       "metadata": {},
       "output_type": "pyout",
       "prompt_number": 17,
       "text": [
        "array([[ 1.,  0.,  0.,  0.],\n",
        "       [ 0.,  1.,  0.,  0.],\n",
        "       [ 0.,  0.,  1.,  0.],\n",
        "       [ 0.,  0.,  0.,  1.]])"
       ]
      }
     ],
     "prompt_number": 17
    },
    {
     "cell_type": "code",
     "collapsed": false,
     "input": [
      "np.identity(3)"
     ],
     "language": "python",
     "metadata": {},
     "outputs": [
      {
       "metadata": {},
       "output_type": "pyout",
       "prompt_number": 19,
       "text": [
        "array([[ 1.,  0.,  0.],\n",
        "       [ 0.,  1.,  0.],\n",
        "       [ 0.,  0.,  1.]])"
       ]
      }
     ],
     "prompt_number": 19
    },
    {
     "cell_type": "code",
     "collapsed": false,
     "input": [
      "arr = np.array([1,2,3,4,5])\n",
      "arr.dtype"
     ],
     "language": "python",
     "metadata": {},
     "outputs": [
      {
       "metadata": {},
       "output_type": "pyout",
       "prompt_number": 21,
       "text": [
        "dtype('int64')"
       ]
      }
     ],
     "prompt_number": 21
    },
    {
     "cell_type": "code",
     "collapsed": false,
     "input": [
      "arr.astype(np.float64).dtype"
     ],
     "language": "python",
     "metadata": {},
     "outputs": [
      {
       "metadata": {},
       "output_type": "pyout",
       "prompt_number": 23,
       "text": [
        "dtype('float64')"
       ]
      }
     ],
     "prompt_number": 23
    },
    {
     "cell_type": "raw",
     "metadata": {},
     "source": []
    },
    {
     "cell_type": "code",
     "collapsed": false,
     "input": [
      "arr = np.array([[1., 2., 3.], [4., 5., 6.]])\n",
      "arr"
     ],
     "language": "python",
     "metadata": {},
     "outputs": [
      {
       "metadata": {},
       "output_type": "pyout",
       "prompt_number": 25,
       "text": [
        "array([[ 1.,  2.,  3.],\n",
        "       [ 4.,  5.,  6.]])"
       ]
      }
     ],
     "prompt_number": 25
    },
    {
     "cell_type": "code",
     "collapsed": false,
     "input": [
      "arr ** 3"
     ],
     "language": "python",
     "metadata": {},
     "outputs": [
      {
       "metadata": {},
       "output_type": "pyout",
       "prompt_number": 27,
       "text": [
        "array([[   1.,    8.,   27.],\n",
        "       [  64.,  125.,  216.]])"
       ]
      }
     ],
     "prompt_number": 27
    },
    {
     "cell_type": "code",
     "collapsed": false,
     "input": [
      "1 /arr"
     ],
     "language": "python",
     "metadata": {},
     "outputs": [
      {
       "metadata": {},
       "output_type": "pyout",
       "prompt_number": 28,
       "text": [
        "array([[ 1.        ,  0.5       ,  0.33333333],\n",
        "       [ 0.25      ,  0.2       ,  0.16666667]])"
       ]
      }
     ],
     "prompt_number": 28
    },
    {
     "cell_type": "code",
     "collapsed": false,
     "input": [
      "arr = np.arange(10)\n",
      "arr"
     ],
     "language": "python",
     "metadata": {},
     "outputs": [
      {
       "metadata": {},
       "output_type": "pyout",
       "prompt_number": 29,
       "text": [
        "array([0, 1, 2, 3, 4, 5, 6, 7, 8, 9])"
       ]
      }
     ],
     "prompt_number": 29
    },
    {
     "cell_type": "code",
     "collapsed": false,
     "input": [
      "arr[5:8]"
     ],
     "language": "python",
     "metadata": {},
     "outputs": [
      {
       "metadata": {},
       "output_type": "pyout",
       "prompt_number": 30,
       "text": [
        "array([5, 6, 7])"
       ]
      }
     ],
     "prompt_number": 30
    },
    {
     "cell_type": "code",
     "collapsed": false,
     "input": [
      "arr[5:8] = 12\n",
      "arr"
     ],
     "language": "python",
     "metadata": {},
     "outputs": [
      {
       "metadata": {},
       "output_type": "pyout",
       "prompt_number": 31,
       "text": [
        "array([ 0,  1,  2,  3,  4, 12, 12, 12,  8,  9])"
       ]
      }
     ],
     "prompt_number": 31
    },
    {
     "cell_type": "raw",
     "metadata": {},
     "source": []
    },
    {
     "cell_type": "code",
     "collapsed": false,
     "input": [
      "arr_slice = arr[5:8]\n",
      "arr_slice[1]"
     ],
     "language": "python",
     "metadata": {},
     "outputs": [
      {
       "metadata": {},
       "output_type": "pyout",
       "prompt_number": 34,
       "text": [
        "12"
       ]
      }
     ],
     "prompt_number": 34
    },
    {
     "cell_type": "code",
     "collapsed": false,
     "input": [
      "arr_slice[:] = 64\n",
      "arr"
     ],
     "language": "python",
     "metadata": {},
     "outputs": [
      {
       "metadata": {},
       "output_type": "pyout",
       "prompt_number": 37,
       "text": [
        "array([ 0,  1,  2,  3,  4, 64, 64, 64,  8,  9])"
       ]
      }
     ],
     "prompt_number": 37
    },
    {
     "cell_type": "code",
     "collapsed": false,
     "input": [
      "arr2d = np.array([[1, 2, 3], [4, 5, 6], [7, 8, 9]])\n",
      "arr2d[2]"
     ],
     "language": "python",
     "metadata": {},
     "outputs": [
      {
       "metadata": {},
       "output_type": "pyout",
       "prompt_number": 39,
       "text": [
        "array([7, 8, 9])"
       ]
      }
     ],
     "prompt_number": 39
    },
    {
     "cell_type": "raw",
     "metadata": {},
     "source": []
    },
    {
     "cell_type": "code",
     "collapsed": false,
     "input": [
      "arr2d[0][2]"
     ],
     "language": "python",
     "metadata": {},
     "outputs": [
      {
       "metadata": {},
       "output_type": "pyout",
       "prompt_number": 41,
       "text": [
        "3"
       ]
      }
     ],
     "prompt_number": 41
    },
    {
     "cell_type": "code",
     "collapsed": false,
     "input": [
      "arr2d[0,2]"
     ],
     "language": "python",
     "metadata": {},
     "outputs": [
      {
       "metadata": {},
       "output_type": "pyout",
       "prompt_number": 42,
       "text": [
        "3"
       ]
      }
     ],
     "prompt_number": 42
    },
    {
     "cell_type": "code",
     "collapsed": false,
     "input": [
      "arr3d = np.array([[[1, 2, 3], [4, 5, 6]], [[7, 8, 9], [10, 11, 12]]])\n",
      "arr3d"
     ],
     "language": "python",
     "metadata": {},
     "outputs": [
      {
       "metadata": {},
       "output_type": "pyout",
       "prompt_number": 43,
       "text": [
        "array([[[ 1,  2,  3],\n",
        "        [ 4,  5,  6]],\n",
        "\n",
        "       [[ 7,  8,  9],\n",
        "        [10, 11, 12]]])"
       ]
      }
     ],
     "prompt_number": 43
    },
    {
     "cell_type": "code",
     "collapsed": false,
     "input": [
      "arr3d[0]"
     ],
     "language": "python",
     "metadata": {},
     "outputs": [
      {
       "metadata": {},
       "output_type": "pyout",
       "prompt_number": 44,
       "text": [
        "array([[1, 2, 3],\n",
        "       [4, 5, 6]])"
       ]
      }
     ],
     "prompt_number": 44
    },
    {
     "cell_type": "code",
     "collapsed": false,
     "input": [
      "arr3d[1, 0]"
     ],
     "language": "python",
     "metadata": {},
     "outputs": [
      {
       "metadata": {},
       "output_type": "pyout",
       "prompt_number": 45,
       "text": [
        "array([7, 8, 9])"
       ]
      }
     ],
     "prompt_number": 45
    },
    {
     "cell_type": "code",
     "collapsed": false,
     "input": [
      "arr2d[:2]"
     ],
     "language": "python",
     "metadata": {},
     "outputs": [
      {
       "metadata": {},
       "output_type": "pyout",
       "prompt_number": 46,
       "text": [
        "array([[1, 2, 3],\n",
        "       [4, 5, 6]])"
       ]
      }
     ],
     "prompt_number": 46
    },
    {
     "cell_type": "raw",
     "metadata": {},
     "source": []
    },
    {
     "cell_type": "code",
     "collapsed": false,
     "input": [
      "arr2d[:2, 1:]"
     ],
     "language": "python",
     "metadata": {},
     "outputs": [
      {
       "metadata": {},
       "output_type": "pyout",
       "prompt_number": 47,
       "text": [
        "array([[2, 3],\n",
        "       [5, 6]])"
       ]
      }
     ],
     "prompt_number": 47
    },
    {
     "cell_type": "code",
     "collapsed": false,
     "input": [
      "arr2d[:, :1]"
     ],
     "language": "python",
     "metadata": {},
     "outputs": [
      {
       "metadata": {},
       "output_type": "pyout",
       "prompt_number": 52,
       "text": [
        "array([[1],\n",
        "       [4],\n",
        "       [7]])"
       ]
      }
     ],
     "prompt_number": 52
    },
    {
     "cell_type": "code",
     "collapsed": false,
     "input": [
      "names = np.array(['Bob', 'Joe', 'Will', 'Bob', 'Will', 'Joe', 'Joe'])\n",
      "names"
     ],
     "language": "python",
     "metadata": {},
     "outputs": [
      {
       "metadata": {},
       "output_type": "pyout",
       "prompt_number": 53,
       "text": [
        "array(['Bob', 'Joe', 'Will', 'Bob', 'Will', 'Joe', 'Joe'], \n",
        "      dtype='|S4')"
       ]
      }
     ],
     "prompt_number": 53
    },
    {
     "cell_type": "code",
     "collapsed": false,
     "input": [
      "data = np.random.randn(7, 4)\n",
      "data"
     ],
     "language": "python",
     "metadata": {},
     "outputs": [
      {
       "metadata": {},
       "output_type": "pyout",
       "prompt_number": 56,
       "text": [
        "array([[ 0.3548285 , -1.68189544,  1.04074698, -0.61519588],\n",
        "       [ 1.01645433, -1.67800739,  0.50580915, -1.3488958 ],\n",
        "       [ 1.18969562, -0.22923247,  0.6258844 , -0.99038513],\n",
        "       [-0.75583401, -0.6889187 ,  0.40876702, -0.3414002 ],\n",
        "       [ 0.50341297,  0.73501483, -1.02424249,  1.40356844],\n",
        "       [ 0.96269895,  0.73982508,  0.12006794, -0.3575666 ],\n",
        "       [-0.15898815, -0.89689044,  0.3358598 ,  0.15255629]])"
       ]
      }
     ],
     "prompt_number": 56
    },
    {
     "cell_type": "code",
     "collapsed": false,
     "input": [
      "names == 'Bob'\n"
     ],
     "language": "python",
     "metadata": {},
     "outputs": [
      {
       "metadata": {},
       "output_type": "pyout",
       "prompt_number": 57,
       "text": [
        "array([ True, False, False,  True, False, False, False], dtype=bool)"
       ]
      }
     ],
     "prompt_number": 57
    },
    {
     "cell_type": "code",
     "collapsed": false,
     "input": [
      "data[names == 'Bob', 2:]"
     ],
     "language": "python",
     "metadata": {},
     "outputs": [
      {
       "metadata": {},
       "output_type": "pyout",
       "prompt_number": 59,
       "text": [
        "array([[ 1.04074698, -0.61519588],\n",
        "       [ 0.40876702, -0.3414002 ]])"
       ]
      }
     ],
     "prompt_number": 59
    },
    {
     "cell_type": "code",
     "collapsed": false,
     "input": [
      "arr = np.empty((8,4))\n",
      "arr"
     ],
     "language": "python",
     "metadata": {},
     "outputs": [
      {
       "metadata": {},
       "output_type": "pyout",
       "prompt_number": 61,
       "text": [
        "array([[  6.92818517e-310,   1.79820607e-316,   6.79038653e-313,\n",
        "          6.79038653e-313],\n",
        "       [  2.14321575e-312,   2.48273508e-312,   2.33419537e-312,\n",
        "          2.44029516e-312],\n",
        "       [  2.37663529e-312,   2.41907520e-312,   1.76125651e-312,\n",
        "          2.37663529e-312],\n",
        "       [  2.41907520e-312,   2.46151512e-312,   1.80369642e-312,\n",
        "          2.22809558e-312],\n",
        "       [  2.35541533e-312,   2.14321575e-312,   6.79038653e-313,\n",
        "          2.14321575e-312],\n",
        "       [  2.16443571e-312,   9.76118064e-313,   2.05833592e-312,\n",
        "          2.22809558e-312],\n",
        "       [  2.05833592e-312,   2.14321575e-312,   2.35541533e-312,\n",
        "          2.24931554e-312],\n",
        "       [  6.79038653e-313,   2.05833592e-312,   2.48273508e-312,\n",
        "          8.70018275e-313]])"
       ]
      }
     ],
     "prompt_number": 61
    },
    {
     "cell_type": "code",
     "collapsed": false,
     "input": [
      "for i in range(8):\n",
      "    arr[i] = i\n",
      "arr"
     ],
     "language": "python",
     "metadata": {},
     "outputs": [
      {
       "metadata": {},
       "output_type": "pyout",
       "prompt_number": 67,
       "text": [
        "array([[ 0.,  0.,  0.,  0.],\n",
        "       [ 1.,  1.,  1.,  1.],\n",
        "       [ 2.,  2.,  2.,  2.],\n",
        "       [ 3.,  3.,  3.,  3.],\n",
        "       [ 4.,  4.,  4.,  4.],\n",
        "       [ 5.,  5.,  5.,  5.],\n",
        "       [ 6.,  6.,  6.,  6.],\n",
        "       [ 7.,  7.,  7.,  7.]])"
       ]
      }
     ],
     "prompt_number": 67
    },
    {
     "cell_type": "code",
     "collapsed": false,
     "input": [
      "arr[ [4, 2, 1,6] ]"
     ],
     "language": "python",
     "metadata": {},
     "outputs": [
      {
       "metadata": {},
       "output_type": "pyout",
       "prompt_number": 69,
       "text": [
        "array([[ 4.,  4.,  4.,  4.],\n",
        "       [ 2.,  2.,  2.,  2.],\n",
        "       [ 1.,  1.,  1.,  1.],\n",
        "       [ 6.,  6.,  6.,  6.]])"
       ]
      }
     ],
     "prompt_number": 69
    },
    {
     "cell_type": "code",
     "collapsed": false,
     "input": [
      "arr = np.arange(32).reshape((8,4))\n",
      "arr"
     ],
     "language": "python",
     "metadata": {},
     "outputs": [
      {
       "metadata": {},
       "output_type": "pyout",
       "prompt_number": 71,
       "text": [
        "array([[ 0,  1,  2,  3],\n",
        "       [ 4,  5,  6,  7],\n",
        "       [ 8,  9, 10, 11],\n",
        "       [12, 13, 14, 15],\n",
        "       [16, 17, 18, 19],\n",
        "       [20, 21, 22, 23],\n",
        "       [24, 25, 26, 27],\n",
        "       [28, 29, 30, 31]])"
       ]
      }
     ],
     "prompt_number": 71
    },
    {
     "cell_type": "code",
     "collapsed": false,
     "input": [
      "arr[[1, 5, 7, 2], [0, 3, 1, 2]]"
     ],
     "language": "python",
     "metadata": {},
     "outputs": [
      {
       "metadata": {},
       "output_type": "pyout",
       "prompt_number": 72,
       "text": [
        "array([ 4, 23, 29, 10])"
       ]
      }
     ],
     "prompt_number": 72
    },
    {
     "cell_type": "code",
     "collapsed": false,
     "input": [
      "arr[[1, 5, 7, 2]][:, [0, 3, 1, 2]]"
     ],
     "language": "python",
     "metadata": {},
     "outputs": [
      {
       "metadata": {},
       "output_type": "pyout",
       "prompt_number": 73,
       "text": [
        "array([[ 4,  7,  5,  6],\n",
        "       [20, 23, 21, 22],\n",
        "       [28, 31, 29, 30],\n",
        "       [ 8, 11,  9, 10]])"
       ]
      }
     ],
     "prompt_number": 73
    },
    {
     "cell_type": "code",
     "collapsed": false,
     "input": [
      "np.ix_([1, 5, 7, 2], [0, 3, 1, 2])"
     ],
     "language": "python",
     "metadata": {},
     "outputs": [
      {
       "metadata": {},
       "output_type": "pyout",
       "prompt_number": 74,
       "text": [
        "(array([[1],\n",
        "        [5],\n",
        "        [7],\n",
        "        [2]]), array([[0, 3, 1, 2]]))"
       ]
      }
     ],
     "prompt_number": 74
    },
    {
     "cell_type": "code",
     "collapsed": false,
     "input": [
      "arr[np.ix_([1, 5, 7, 2], [0, 3, 1, 2])]"
     ],
     "language": "python",
     "metadata": {},
     "outputs": [
      {
       "metadata": {},
       "output_type": "pyout",
       "prompt_number": 76,
       "text": [
        "array([[ 4,  7,  5,  6],\n",
        "       [20, 23, 21, 22],\n",
        "       [28, 31, 29, 30],\n",
        "       [ 8, 11,  9, 10]])"
       ]
      }
     ],
     "prompt_number": 76
    },
    {
     "cell_type": "code",
     "collapsed": false,
     "input": [
      "arr.T"
     ],
     "language": "python",
     "metadata": {},
     "outputs": [
      {
       "metadata": {},
       "output_type": "pyout",
       "prompt_number": 78,
       "text": [
        "array([[ 0,  4,  8, 12, 16, 20, 24, 28],\n",
        "       [ 1,  5,  9, 13, 17, 21, 25, 29],\n",
        "       [ 2,  6, 10, 14, 18, 22, 26, 30],\n",
        "       [ 3,  7, 11, 15, 19, 23, 27, 31]])"
       ]
      }
     ],
     "prompt_number": 78
    },
    {
     "cell_type": "code",
     "collapsed": false,
     "input": [
      "arr = np.random.randn(6, 3)\n",
      "arr"
     ],
     "language": "python",
     "metadata": {},
     "outputs": [
      {
       "metadata": {},
       "output_type": "pyout",
       "prompt_number": 80,
       "text": [
        "array([[ 0.13240238,  0.07367324, -0.19729076],\n",
        "       [-0.10244226,  0.49692889,  0.57698525],\n",
        "       [ 0.22368358, -0.76976397,  1.95212233],\n",
        "       [-0.45613976, -0.05185372, -0.17985276],\n",
        "       [-0.50958872, -0.62645521, -0.33994466],\n",
        "       [ 1.13459506,  0.69506866, -1.98468511]])"
       ]
      }
     ],
     "prompt_number": 80
    },
    {
     "cell_type": "code",
     "collapsed": false,
     "input": [
      "np.dot(arr.T, arr)"
     ],
     "language": "python",
     "metadata": {},
     "outputs": [
      {
       "metadata": {},
       "output_type": "pyout",
       "prompt_number": 81,
       "text": [
        "array([[ 1.83310924,  0.91817295, -1.6451157 ],\n",
        "       [ 0.91817295,  1.72315802, -2.38769413],\n",
        "       [-1.6451157 , -2.38769413,  8.26950159]])"
       ]
      }
     ],
     "prompt_number": 81
    },
    {
     "cell_type": "code",
     "collapsed": false,
     "input": [
      "a = [ [1,2], [3,4]]\n",
      "b = [ [2,2], [3,3]]\n",
      "np.dot(a,b)"
     ],
     "language": "python",
     "metadata": {},
     "outputs": [
      {
       "metadata": {},
       "output_type": "pyout",
       "prompt_number": 86,
       "text": [
        "array([[ 8,  8],\n",
        "       [18, 18]])"
       ]
      }
     ],
     "prompt_number": 86
    },
    {
     "cell_type": "code",
     "collapsed": false,
     "input": [
      "arr = np.arange(16).reshape((2, 2, 4))\n",
      "arr"
     ],
     "language": "python",
     "metadata": {},
     "outputs": [
      {
       "metadata": {},
       "output_type": "pyout",
       "prompt_number": 88,
       "text": [
        "array([[[ 0,  1,  2,  3],\n",
        "        [ 4,  5,  6,  7]],\n",
        "\n",
        "       [[ 8,  9, 10, 11],\n",
        "        [12, 13, 14, 15]]])"
       ]
      }
     ],
     "prompt_number": 88
    },
    {
     "cell_type": "code",
     "collapsed": false,
     "input": [
      "arr.swapaxes(1, 2)\n"
     ],
     "language": "python",
     "metadata": {},
     "outputs": [
      {
       "metadata": {},
       "output_type": "pyout",
       "prompt_number": 89,
       "text": [
        "array([[[ 0,  4],\n",
        "        [ 1,  5],\n",
        "        [ 2,  6],\n",
        "        [ 3,  7]],\n",
        "\n",
        "       [[ 8, 12],\n",
        "        [ 9, 13],\n",
        "        [10, 14],\n",
        "        [11, 15]]])"
       ]
      }
     ],
     "prompt_number": 89
    },
    {
     "cell_type": "code",
     "collapsed": false,
     "input": [
      "import numpy as np\n",
      "arr = np.arange(10)\n",
      "np.sqrt(arr)"
     ],
     "language": "python",
     "metadata": {},
     "outputs": [
      {
       "metadata": {},
       "output_type": "pyout",
       "prompt_number": 2,
       "text": [
        "array([ 0.        ,  1.        ,  1.41421356,  1.73205081,  2.        ,\n",
        "        2.23606798,  2.44948974,  2.64575131,  2.82842712,  3.        ])"
       ]
      }
     ],
     "prompt_number": 2
    },
    {
     "cell_type": "code",
     "collapsed": false,
     "input": [
      "np.exp(arr)"
     ],
     "language": "python",
     "metadata": {},
     "outputs": [
      {
       "metadata": {},
       "output_type": "pyout",
       "prompt_number": 3,
       "text": [
        "array([  1.00000000e+00,   2.71828183e+00,   7.38905610e+00,\n",
        "         2.00855369e+01,   5.45981500e+01,   1.48413159e+02,\n",
        "         4.03428793e+02,   1.09663316e+03,   2.98095799e+03,\n",
        "         8.10308393e+03])"
       ]
      }
     ],
     "prompt_number": 3
    },
    {
     "cell_type": "code",
     "collapsed": false,
     "input": [
      "x = np.random.randn(8)\n",
      "y = np.random.randn(8)\n",
      "x"
     ],
     "language": "python",
     "metadata": {},
     "outputs": [
      {
       "metadata": {},
       "output_type": "pyout",
       "prompt_number": 6,
       "text": [
        "array([-0.4635649 , -0.44922013,  0.32655729,  0.28080219,  0.5271557 ,\n",
        "        0.71104723, -1.09460578, -0.81849086])"
       ]
      }
     ],
     "prompt_number": 6
    },
    {
     "cell_type": "code",
     "collapsed": false,
     "input": [
      "y"
     ],
     "language": "python",
     "metadata": {},
     "outputs": [
      {
       "metadata": {},
       "output_type": "pyout",
       "prompt_number": 7,
       "text": [
        "array([-0.39967404, -1.18334498,  0.8712254 , -1.9680716 , -1.68387443,\n",
        "        0.58279338,  0.36411889,  0.02710956])"
       ]
      }
     ],
     "prompt_number": 7
    },
    {
     "cell_type": "code",
     "collapsed": false,
     "input": [
      "np.maximum(x, y)"
     ],
     "language": "python",
     "metadata": {},
     "outputs": [
      {
       "metadata": {},
       "output_type": "pyout",
       "prompt_number": 8,
       "text": [
        "array([-0.39967404, -0.44922013,  0.8712254 ,  0.28080219,  0.5271557 ,\n",
        "        0.71104723,  0.36411889,  0.02710956])"
       ]
      }
     ],
     "prompt_number": 8
    },
    {
     "cell_type": "code",
     "collapsed": false,
     "input": [
      "arr = np.random.randn(7) * 5\n",
      "arr"
     ],
     "language": "python",
     "metadata": {},
     "outputs": [
      {
       "metadata": {},
       "output_type": "pyout",
       "prompt_number": 10,
       "text": [
        "array([-16.60071761,   0.71634224,  -2.33300867,  -4.02550905,\n",
        "        -6.27784998,  -1.83302116, -15.19034896])"
       ]
      }
     ],
     "prompt_number": 10
    },
    {
     "cell_type": "code",
     "collapsed": false,
     "input": [
      "np.modf(arr)"
     ],
     "language": "python",
     "metadata": {},
     "outputs": [
      {
       "metadata": {},
       "output_type": "pyout",
       "prompt_number": 12,
       "text": [
        "(array([-0.60071761,  0.71634224, -0.33300867, -0.02550905, -0.27784998,\n",
        "        -0.83302116, -0.19034896]),\n",
        " array([-16.,   0.,  -2.,  -4.,  -6.,  -1., -15.]))"
       ]
      }
     ],
     "prompt_number": 12
    },
    {
     "cell_type": "code",
     "collapsed": false,
     "input": [
      "points = np.arange(-5, 5, 0.01) # 1000 equally spaced points\n",
      "points"
     ],
     "language": "python",
     "metadata": {},
     "outputs": [
      {
       "metadata": {},
       "output_type": "pyout",
       "prompt_number": 14,
       "text": [
        "array([ -5.00000000e+00,  -4.99000000e+00,  -4.98000000e+00,\n",
        "        -4.97000000e+00,  -4.96000000e+00,  -4.95000000e+00,\n",
        "        -4.94000000e+00,  -4.93000000e+00,  -4.92000000e+00,\n",
        "        -4.91000000e+00,  -4.90000000e+00,  -4.89000000e+00,\n",
        "        -4.88000000e+00,  -4.87000000e+00,  -4.86000000e+00,\n",
        "        -4.85000000e+00,  -4.84000000e+00,  -4.83000000e+00,\n",
        "        -4.82000000e+00,  -4.81000000e+00,  -4.80000000e+00,\n",
        "        -4.79000000e+00,  -4.78000000e+00,  -4.77000000e+00,\n",
        "        -4.76000000e+00,  -4.75000000e+00,  -4.74000000e+00,\n",
        "        -4.73000000e+00,  -4.72000000e+00,  -4.71000000e+00,\n",
        "        -4.70000000e+00,  -4.69000000e+00,  -4.68000000e+00,\n",
        "        -4.67000000e+00,  -4.66000000e+00,  -4.65000000e+00,\n",
        "        -4.64000000e+00,  -4.63000000e+00,  -4.62000000e+00,\n",
        "        -4.61000000e+00,  -4.60000000e+00,  -4.59000000e+00,\n",
        "        -4.58000000e+00,  -4.57000000e+00,  -4.56000000e+00,\n",
        "        -4.55000000e+00,  -4.54000000e+00,  -4.53000000e+00,\n",
        "        -4.52000000e+00,  -4.51000000e+00,  -4.50000000e+00,\n",
        "        -4.49000000e+00,  -4.48000000e+00,  -4.47000000e+00,\n",
        "        -4.46000000e+00,  -4.45000000e+00,  -4.44000000e+00,\n",
        "        -4.43000000e+00,  -4.42000000e+00,  -4.41000000e+00,\n",
        "        -4.40000000e+00,  -4.39000000e+00,  -4.38000000e+00,\n",
        "        -4.37000000e+00,  -4.36000000e+00,  -4.35000000e+00,\n",
        "        -4.34000000e+00,  -4.33000000e+00,  -4.32000000e+00,\n",
        "        -4.31000000e+00,  -4.30000000e+00,  -4.29000000e+00,\n",
        "        -4.28000000e+00,  -4.27000000e+00,  -4.26000000e+00,\n",
        "        -4.25000000e+00,  -4.24000000e+00,  -4.23000000e+00,\n",
        "        -4.22000000e+00,  -4.21000000e+00,  -4.20000000e+00,\n",
        "        -4.19000000e+00,  -4.18000000e+00,  -4.17000000e+00,\n",
        "        -4.16000000e+00,  -4.15000000e+00,  -4.14000000e+00,\n",
        "        -4.13000000e+00,  -4.12000000e+00,  -4.11000000e+00,\n",
        "        -4.10000000e+00,  -4.09000000e+00,  -4.08000000e+00,\n",
        "        -4.07000000e+00,  -4.06000000e+00,  -4.05000000e+00,\n",
        "        -4.04000000e+00,  -4.03000000e+00,  -4.02000000e+00,\n",
        "        -4.01000000e+00,  -4.00000000e+00,  -3.99000000e+00,\n",
        "        -3.98000000e+00,  -3.97000000e+00,  -3.96000000e+00,\n",
        "        -3.95000000e+00,  -3.94000000e+00,  -3.93000000e+00,\n",
        "        -3.92000000e+00,  -3.91000000e+00,  -3.90000000e+00,\n",
        "        -3.89000000e+00,  -3.88000000e+00,  -3.87000000e+00,\n",
        "        -3.86000000e+00,  -3.85000000e+00,  -3.84000000e+00,\n",
        "        -3.83000000e+00,  -3.82000000e+00,  -3.81000000e+00,\n",
        "        -3.80000000e+00,  -3.79000000e+00,  -3.78000000e+00,\n",
        "        -3.77000000e+00,  -3.76000000e+00,  -3.75000000e+00,\n",
        "        -3.74000000e+00,  -3.73000000e+00,  -3.72000000e+00,\n",
        "        -3.71000000e+00,  -3.70000000e+00,  -3.69000000e+00,\n",
        "        -3.68000000e+00,  -3.67000000e+00,  -3.66000000e+00,\n",
        "        -3.65000000e+00,  -3.64000000e+00,  -3.63000000e+00,\n",
        "        -3.62000000e+00,  -3.61000000e+00,  -3.60000000e+00,\n",
        "        -3.59000000e+00,  -3.58000000e+00,  -3.57000000e+00,\n",
        "        -3.56000000e+00,  -3.55000000e+00,  -3.54000000e+00,\n",
        "        -3.53000000e+00,  -3.52000000e+00,  -3.51000000e+00,\n",
        "        -3.50000000e+00,  -3.49000000e+00,  -3.48000000e+00,\n",
        "        -3.47000000e+00,  -3.46000000e+00,  -3.45000000e+00,\n",
        "        -3.44000000e+00,  -3.43000000e+00,  -3.42000000e+00,\n",
        "        -3.41000000e+00,  -3.40000000e+00,  -3.39000000e+00,\n",
        "        -3.38000000e+00,  -3.37000000e+00,  -3.36000000e+00,\n",
        "        -3.35000000e+00,  -3.34000000e+00,  -3.33000000e+00,\n",
        "        -3.32000000e+00,  -3.31000000e+00,  -3.30000000e+00,\n",
        "        -3.29000000e+00,  -3.28000000e+00,  -3.27000000e+00,\n",
        "        -3.26000000e+00,  -3.25000000e+00,  -3.24000000e+00,\n",
        "        -3.23000000e+00,  -3.22000000e+00,  -3.21000000e+00,\n",
        "        -3.20000000e+00,  -3.19000000e+00,  -3.18000000e+00,\n",
        "        -3.17000000e+00,  -3.16000000e+00,  -3.15000000e+00,\n",
        "        -3.14000000e+00,  -3.13000000e+00,  -3.12000000e+00,\n",
        "        -3.11000000e+00,  -3.10000000e+00,  -3.09000000e+00,\n",
        "        -3.08000000e+00,  -3.07000000e+00,  -3.06000000e+00,\n",
        "        -3.05000000e+00,  -3.04000000e+00,  -3.03000000e+00,\n",
        "        -3.02000000e+00,  -3.01000000e+00,  -3.00000000e+00,\n",
        "        -2.99000000e+00,  -2.98000000e+00,  -2.97000000e+00,\n",
        "        -2.96000000e+00,  -2.95000000e+00,  -2.94000000e+00,\n",
        "        -2.93000000e+00,  -2.92000000e+00,  -2.91000000e+00,\n",
        "        -2.90000000e+00,  -2.89000000e+00,  -2.88000000e+00,\n",
        "        -2.87000000e+00,  -2.86000000e+00,  -2.85000000e+00,\n",
        "        -2.84000000e+00,  -2.83000000e+00,  -2.82000000e+00,\n",
        "        -2.81000000e+00,  -2.80000000e+00,  -2.79000000e+00,\n",
        "        -2.78000000e+00,  -2.77000000e+00,  -2.76000000e+00,\n",
        "        -2.75000000e+00,  -2.74000000e+00,  -2.73000000e+00,\n",
        "        -2.72000000e+00,  -2.71000000e+00,  -2.70000000e+00,\n",
        "        -2.69000000e+00,  -2.68000000e+00,  -2.67000000e+00,\n",
        "        -2.66000000e+00,  -2.65000000e+00,  -2.64000000e+00,\n",
        "        -2.63000000e+00,  -2.62000000e+00,  -2.61000000e+00,\n",
        "        -2.60000000e+00,  -2.59000000e+00,  -2.58000000e+00,\n",
        "        -2.57000000e+00,  -2.56000000e+00,  -2.55000000e+00,\n",
        "        -2.54000000e+00,  -2.53000000e+00,  -2.52000000e+00,\n",
        "        -2.51000000e+00,  -2.50000000e+00,  -2.49000000e+00,\n",
        "        -2.48000000e+00,  -2.47000000e+00,  -2.46000000e+00,\n",
        "        -2.45000000e+00,  -2.44000000e+00,  -2.43000000e+00,\n",
        "        -2.42000000e+00,  -2.41000000e+00,  -2.40000000e+00,\n",
        "        -2.39000000e+00,  -2.38000000e+00,  -2.37000000e+00,\n",
        "        -2.36000000e+00,  -2.35000000e+00,  -2.34000000e+00,\n",
        "        -2.33000000e+00,  -2.32000000e+00,  -2.31000000e+00,\n",
        "        -2.30000000e+00,  -2.29000000e+00,  -2.28000000e+00,\n",
        "        -2.27000000e+00,  -2.26000000e+00,  -2.25000000e+00,\n",
        "        -2.24000000e+00,  -2.23000000e+00,  -2.22000000e+00,\n",
        "        -2.21000000e+00,  -2.20000000e+00,  -2.19000000e+00,\n",
        "        -2.18000000e+00,  -2.17000000e+00,  -2.16000000e+00,\n",
        "        -2.15000000e+00,  -2.14000000e+00,  -2.13000000e+00,\n",
        "        -2.12000000e+00,  -2.11000000e+00,  -2.10000000e+00,\n",
        "        -2.09000000e+00,  -2.08000000e+00,  -2.07000000e+00,\n",
        "        -2.06000000e+00,  -2.05000000e+00,  -2.04000000e+00,\n",
        "        -2.03000000e+00,  -2.02000000e+00,  -2.01000000e+00,\n",
        "        -2.00000000e+00,  -1.99000000e+00,  -1.98000000e+00,\n",
        "        -1.97000000e+00,  -1.96000000e+00,  -1.95000000e+00,\n",
        "        -1.94000000e+00,  -1.93000000e+00,  -1.92000000e+00,\n",
        "        -1.91000000e+00,  -1.90000000e+00,  -1.89000000e+00,\n",
        "        -1.88000000e+00,  -1.87000000e+00,  -1.86000000e+00,\n",
        "        -1.85000000e+00,  -1.84000000e+00,  -1.83000000e+00,\n",
        "        -1.82000000e+00,  -1.81000000e+00,  -1.80000000e+00,\n",
        "        -1.79000000e+00,  -1.78000000e+00,  -1.77000000e+00,\n",
        "        -1.76000000e+00,  -1.75000000e+00,  -1.74000000e+00,\n",
        "        -1.73000000e+00,  -1.72000000e+00,  -1.71000000e+00,\n",
        "        -1.70000000e+00,  -1.69000000e+00,  -1.68000000e+00,\n",
        "        -1.67000000e+00,  -1.66000000e+00,  -1.65000000e+00,\n",
        "        -1.64000000e+00,  -1.63000000e+00,  -1.62000000e+00,\n",
        "        -1.61000000e+00,  -1.60000000e+00,  -1.59000000e+00,\n",
        "        -1.58000000e+00,  -1.57000000e+00,  -1.56000000e+00,\n",
        "        -1.55000000e+00,  -1.54000000e+00,  -1.53000000e+00,\n",
        "        -1.52000000e+00,  -1.51000000e+00,  -1.50000000e+00,\n",
        "        -1.49000000e+00,  -1.48000000e+00,  -1.47000000e+00,\n",
        "        -1.46000000e+00,  -1.45000000e+00,  -1.44000000e+00,\n",
        "        -1.43000000e+00,  -1.42000000e+00,  -1.41000000e+00,\n",
        "        -1.40000000e+00,  -1.39000000e+00,  -1.38000000e+00,\n",
        "        -1.37000000e+00,  -1.36000000e+00,  -1.35000000e+00,\n",
        "        -1.34000000e+00,  -1.33000000e+00,  -1.32000000e+00,\n",
        "        -1.31000000e+00,  -1.30000000e+00,  -1.29000000e+00,\n",
        "        -1.28000000e+00,  -1.27000000e+00,  -1.26000000e+00,\n",
        "        -1.25000000e+00,  -1.24000000e+00,  -1.23000000e+00,\n",
        "        -1.22000000e+00,  -1.21000000e+00,  -1.20000000e+00,\n",
        "        -1.19000000e+00,  -1.18000000e+00,  -1.17000000e+00,\n",
        "        -1.16000000e+00,  -1.15000000e+00,  -1.14000000e+00,\n",
        "        -1.13000000e+00,  -1.12000000e+00,  -1.11000000e+00,\n",
        "        -1.10000000e+00,  -1.09000000e+00,  -1.08000000e+00,\n",
        "        -1.07000000e+00,  -1.06000000e+00,  -1.05000000e+00,\n",
        "        -1.04000000e+00,  -1.03000000e+00,  -1.02000000e+00,\n",
        "        -1.01000000e+00,  -1.00000000e+00,  -9.90000000e-01,\n",
        "        -9.80000000e-01,  -9.70000000e-01,  -9.60000000e-01,\n",
        "        -9.50000000e-01,  -9.40000000e-01,  -9.30000000e-01,\n",
        "        -9.20000000e-01,  -9.10000000e-01,  -9.00000000e-01,\n",
        "        -8.90000000e-01,  -8.80000000e-01,  -8.70000000e-01,\n",
        "        -8.60000000e-01,  -8.50000000e-01,  -8.40000000e-01,\n",
        "        -8.30000000e-01,  -8.20000000e-01,  -8.10000000e-01,\n",
        "        -8.00000000e-01,  -7.90000000e-01,  -7.80000000e-01,\n",
        "        -7.70000000e-01,  -7.60000000e-01,  -7.50000000e-01,\n",
        "        -7.40000000e-01,  -7.30000000e-01,  -7.20000000e-01,\n",
        "        -7.10000000e-01,  -7.00000000e-01,  -6.90000000e-01,\n",
        "        -6.80000000e-01,  -6.70000000e-01,  -6.60000000e-01,\n",
        "        -6.50000000e-01,  -6.40000000e-01,  -6.30000000e-01,\n",
        "        -6.20000000e-01,  -6.10000000e-01,  -6.00000000e-01,\n",
        "        -5.90000000e-01,  -5.80000000e-01,  -5.70000000e-01,\n",
        "        -5.60000000e-01,  -5.50000000e-01,  -5.40000000e-01,\n",
        "        -5.30000000e-01,  -5.20000000e-01,  -5.10000000e-01,\n",
        "        -5.00000000e-01,  -4.90000000e-01,  -4.80000000e-01,\n",
        "        -4.70000000e-01,  -4.60000000e-01,  -4.50000000e-01,\n",
        "        -4.40000000e-01,  -4.30000000e-01,  -4.20000000e-01,\n",
        "        -4.10000000e-01,  -4.00000000e-01,  -3.90000000e-01,\n",
        "        -3.80000000e-01,  -3.70000000e-01,  -3.60000000e-01,\n",
        "        -3.50000000e-01,  -3.40000000e-01,  -3.30000000e-01,\n",
        "        -3.20000000e-01,  -3.10000000e-01,  -3.00000000e-01,\n",
        "        -2.90000000e-01,  -2.80000000e-01,  -2.70000000e-01,\n",
        "        -2.60000000e-01,  -2.50000000e-01,  -2.40000000e-01,\n",
        "        -2.30000000e-01,  -2.20000000e-01,  -2.10000000e-01,\n",
        "        -2.00000000e-01,  -1.90000000e-01,  -1.80000000e-01,\n",
        "        -1.70000000e-01,  -1.60000000e-01,  -1.50000000e-01,\n",
        "        -1.40000000e-01,  -1.30000000e-01,  -1.20000000e-01,\n",
        "        -1.10000000e-01,  -1.00000000e-01,  -9.00000000e-02,\n",
        "        -8.00000000e-02,  -7.00000000e-02,  -6.00000000e-02,\n",
        "        -5.00000000e-02,  -4.00000000e-02,  -3.00000000e-02,\n",
        "        -2.00000000e-02,  -1.00000000e-02,  -1.06581410e-13,\n",
        "         1.00000000e-02,   2.00000000e-02,   3.00000000e-02,\n",
        "         4.00000000e-02,   5.00000000e-02,   6.00000000e-02,\n",
        "         7.00000000e-02,   8.00000000e-02,   9.00000000e-02,\n",
        "         1.00000000e-01,   1.10000000e-01,   1.20000000e-01,\n",
        "         1.30000000e-01,   1.40000000e-01,   1.50000000e-01,\n",
        "         1.60000000e-01,   1.70000000e-01,   1.80000000e-01,\n",
        "         1.90000000e-01,   2.00000000e-01,   2.10000000e-01,\n",
        "         2.20000000e-01,   2.30000000e-01,   2.40000000e-01,\n",
        "         2.50000000e-01,   2.60000000e-01,   2.70000000e-01,\n",
        "         2.80000000e-01,   2.90000000e-01,   3.00000000e-01,\n",
        "         3.10000000e-01,   3.20000000e-01,   3.30000000e-01,\n",
        "         3.40000000e-01,   3.50000000e-01,   3.60000000e-01,\n",
        "         3.70000000e-01,   3.80000000e-01,   3.90000000e-01,\n",
        "         4.00000000e-01,   4.10000000e-01,   4.20000000e-01,\n",
        "         4.30000000e-01,   4.40000000e-01,   4.50000000e-01,\n",
        "         4.60000000e-01,   4.70000000e-01,   4.80000000e-01,\n",
        "         4.90000000e-01,   5.00000000e-01,   5.10000000e-01,\n",
        "         5.20000000e-01,   5.30000000e-01,   5.40000000e-01,\n",
        "         5.50000000e-01,   5.60000000e-01,   5.70000000e-01,\n",
        "         5.80000000e-01,   5.90000000e-01,   6.00000000e-01,\n",
        "         6.10000000e-01,   6.20000000e-01,   6.30000000e-01,\n",
        "         6.40000000e-01,   6.50000000e-01,   6.60000000e-01,\n",
        "         6.70000000e-01,   6.80000000e-01,   6.90000000e-01,\n",
        "         7.00000000e-01,   7.10000000e-01,   7.20000000e-01,\n",
        "         7.30000000e-01,   7.40000000e-01,   7.50000000e-01,\n",
        "         7.60000000e-01,   7.70000000e-01,   7.80000000e-01,\n",
        "         7.90000000e-01,   8.00000000e-01,   8.10000000e-01,\n",
        "         8.20000000e-01,   8.30000000e-01,   8.40000000e-01,\n",
        "         8.50000000e-01,   8.60000000e-01,   8.70000000e-01,\n",
        "         8.80000000e-01,   8.90000000e-01,   9.00000000e-01,\n",
        "         9.10000000e-01,   9.20000000e-01,   9.30000000e-01,\n",
        "         9.40000000e-01,   9.50000000e-01,   9.60000000e-01,\n",
        "         9.70000000e-01,   9.80000000e-01,   9.90000000e-01,\n",
        "         1.00000000e+00,   1.01000000e+00,   1.02000000e+00,\n",
        "         1.03000000e+00,   1.04000000e+00,   1.05000000e+00,\n",
        "         1.06000000e+00,   1.07000000e+00,   1.08000000e+00,\n",
        "         1.09000000e+00,   1.10000000e+00,   1.11000000e+00,\n",
        "         1.12000000e+00,   1.13000000e+00,   1.14000000e+00,\n",
        "         1.15000000e+00,   1.16000000e+00,   1.17000000e+00,\n",
        "         1.18000000e+00,   1.19000000e+00,   1.20000000e+00,\n",
        "         1.21000000e+00,   1.22000000e+00,   1.23000000e+00,\n",
        "         1.24000000e+00,   1.25000000e+00,   1.26000000e+00,\n",
        "         1.27000000e+00,   1.28000000e+00,   1.29000000e+00,\n",
        "         1.30000000e+00,   1.31000000e+00,   1.32000000e+00,\n",
        "         1.33000000e+00,   1.34000000e+00,   1.35000000e+00,\n",
        "         1.36000000e+00,   1.37000000e+00,   1.38000000e+00,\n",
        "         1.39000000e+00,   1.40000000e+00,   1.41000000e+00,\n",
        "         1.42000000e+00,   1.43000000e+00,   1.44000000e+00,\n",
        "         1.45000000e+00,   1.46000000e+00,   1.47000000e+00,\n",
        "         1.48000000e+00,   1.49000000e+00,   1.50000000e+00,\n",
        "         1.51000000e+00,   1.52000000e+00,   1.53000000e+00,\n",
        "         1.54000000e+00,   1.55000000e+00,   1.56000000e+00,\n",
        "         1.57000000e+00,   1.58000000e+00,   1.59000000e+00,\n",
        "         1.60000000e+00,   1.61000000e+00,   1.62000000e+00,\n",
        "         1.63000000e+00,   1.64000000e+00,   1.65000000e+00,\n",
        "         1.66000000e+00,   1.67000000e+00,   1.68000000e+00,\n",
        "         1.69000000e+00,   1.70000000e+00,   1.71000000e+00,\n",
        "         1.72000000e+00,   1.73000000e+00,   1.74000000e+00,\n",
        "         1.75000000e+00,   1.76000000e+00,   1.77000000e+00,\n",
        "         1.78000000e+00,   1.79000000e+00,   1.80000000e+00,\n",
        "         1.81000000e+00,   1.82000000e+00,   1.83000000e+00,\n",
        "         1.84000000e+00,   1.85000000e+00,   1.86000000e+00,\n",
        "         1.87000000e+00,   1.88000000e+00,   1.89000000e+00,\n",
        "         1.90000000e+00,   1.91000000e+00,   1.92000000e+00,\n",
        "         1.93000000e+00,   1.94000000e+00,   1.95000000e+00,\n",
        "         1.96000000e+00,   1.97000000e+00,   1.98000000e+00,\n",
        "         1.99000000e+00,   2.00000000e+00,   2.01000000e+00,\n",
        "         2.02000000e+00,   2.03000000e+00,   2.04000000e+00,\n",
        "         2.05000000e+00,   2.06000000e+00,   2.07000000e+00,\n",
        "         2.08000000e+00,   2.09000000e+00,   2.10000000e+00,\n",
        "         2.11000000e+00,   2.12000000e+00,   2.13000000e+00,\n",
        "         2.14000000e+00,   2.15000000e+00,   2.16000000e+00,\n",
        "         2.17000000e+00,   2.18000000e+00,   2.19000000e+00,\n",
        "         2.20000000e+00,   2.21000000e+00,   2.22000000e+00,\n",
        "         2.23000000e+00,   2.24000000e+00,   2.25000000e+00,\n",
        "         2.26000000e+00,   2.27000000e+00,   2.28000000e+00,\n",
        "         2.29000000e+00,   2.30000000e+00,   2.31000000e+00,\n",
        "         2.32000000e+00,   2.33000000e+00,   2.34000000e+00,\n",
        "         2.35000000e+00,   2.36000000e+00,   2.37000000e+00,\n",
        "         2.38000000e+00,   2.39000000e+00,   2.40000000e+00,\n",
        "         2.41000000e+00,   2.42000000e+00,   2.43000000e+00,\n",
        "         2.44000000e+00,   2.45000000e+00,   2.46000000e+00,\n",
        "         2.47000000e+00,   2.48000000e+00,   2.49000000e+00,\n",
        "         2.50000000e+00,   2.51000000e+00,   2.52000000e+00,\n",
        "         2.53000000e+00,   2.54000000e+00,   2.55000000e+00,\n",
        "         2.56000000e+00,   2.57000000e+00,   2.58000000e+00,\n",
        "         2.59000000e+00,   2.60000000e+00,   2.61000000e+00,\n",
        "         2.62000000e+00,   2.63000000e+00,   2.64000000e+00,\n",
        "         2.65000000e+00,   2.66000000e+00,   2.67000000e+00,\n",
        "         2.68000000e+00,   2.69000000e+00,   2.70000000e+00,\n",
        "         2.71000000e+00,   2.72000000e+00,   2.73000000e+00,\n",
        "         2.74000000e+00,   2.75000000e+00,   2.76000000e+00,\n",
        "         2.77000000e+00,   2.78000000e+00,   2.79000000e+00,\n",
        "         2.80000000e+00,   2.81000000e+00,   2.82000000e+00,\n",
        "         2.83000000e+00,   2.84000000e+00,   2.85000000e+00,\n",
        "         2.86000000e+00,   2.87000000e+00,   2.88000000e+00,\n",
        "         2.89000000e+00,   2.90000000e+00,   2.91000000e+00,\n",
        "         2.92000000e+00,   2.93000000e+00,   2.94000000e+00,\n",
        "         2.95000000e+00,   2.96000000e+00,   2.97000000e+00,\n",
        "         2.98000000e+00,   2.99000000e+00,   3.00000000e+00,\n",
        "         3.01000000e+00,   3.02000000e+00,   3.03000000e+00,\n",
        "         3.04000000e+00,   3.05000000e+00,   3.06000000e+00,\n",
        "         3.07000000e+00,   3.08000000e+00,   3.09000000e+00,\n",
        "         3.10000000e+00,   3.11000000e+00,   3.12000000e+00,\n",
        "         3.13000000e+00,   3.14000000e+00,   3.15000000e+00,\n",
        "         3.16000000e+00,   3.17000000e+00,   3.18000000e+00,\n",
        "         3.19000000e+00,   3.20000000e+00,   3.21000000e+00,\n",
        "         3.22000000e+00,   3.23000000e+00,   3.24000000e+00,\n",
        "         3.25000000e+00,   3.26000000e+00,   3.27000000e+00,\n",
        "         3.28000000e+00,   3.29000000e+00,   3.30000000e+00,\n",
        "         3.31000000e+00,   3.32000000e+00,   3.33000000e+00,\n",
        "         3.34000000e+00,   3.35000000e+00,   3.36000000e+00,\n",
        "         3.37000000e+00,   3.38000000e+00,   3.39000000e+00,\n",
        "         3.40000000e+00,   3.41000000e+00,   3.42000000e+00,\n",
        "         3.43000000e+00,   3.44000000e+00,   3.45000000e+00,\n",
        "         3.46000000e+00,   3.47000000e+00,   3.48000000e+00,\n",
        "         3.49000000e+00,   3.50000000e+00,   3.51000000e+00,\n",
        "         3.52000000e+00,   3.53000000e+00,   3.54000000e+00,\n",
        "         3.55000000e+00,   3.56000000e+00,   3.57000000e+00,\n",
        "         3.58000000e+00,   3.59000000e+00,   3.60000000e+00,\n",
        "         3.61000000e+00,   3.62000000e+00,   3.63000000e+00,\n",
        "         3.64000000e+00,   3.65000000e+00,   3.66000000e+00,\n",
        "         3.67000000e+00,   3.68000000e+00,   3.69000000e+00,\n",
        "         3.70000000e+00,   3.71000000e+00,   3.72000000e+00,\n",
        "         3.73000000e+00,   3.74000000e+00,   3.75000000e+00,\n",
        "         3.76000000e+00,   3.77000000e+00,   3.78000000e+00,\n",
        "         3.79000000e+00,   3.80000000e+00,   3.81000000e+00,\n",
        "         3.82000000e+00,   3.83000000e+00,   3.84000000e+00,\n",
        "         3.85000000e+00,   3.86000000e+00,   3.87000000e+00,\n",
        "         3.88000000e+00,   3.89000000e+00,   3.90000000e+00,\n",
        "         3.91000000e+00,   3.92000000e+00,   3.93000000e+00,\n",
        "         3.94000000e+00,   3.95000000e+00,   3.96000000e+00,\n",
        "         3.97000000e+00,   3.98000000e+00,   3.99000000e+00,\n",
        "         4.00000000e+00,   4.01000000e+00,   4.02000000e+00,\n",
        "         4.03000000e+00,   4.04000000e+00,   4.05000000e+00,\n",
        "         4.06000000e+00,   4.07000000e+00,   4.08000000e+00,\n",
        "         4.09000000e+00,   4.10000000e+00,   4.11000000e+00,\n",
        "         4.12000000e+00,   4.13000000e+00,   4.14000000e+00,\n",
        "         4.15000000e+00,   4.16000000e+00,   4.17000000e+00,\n",
        "         4.18000000e+00,   4.19000000e+00,   4.20000000e+00,\n",
        "         4.21000000e+00,   4.22000000e+00,   4.23000000e+00,\n",
        "         4.24000000e+00,   4.25000000e+00,   4.26000000e+00,\n",
        "         4.27000000e+00,   4.28000000e+00,   4.29000000e+00,\n",
        "         4.30000000e+00,   4.31000000e+00,   4.32000000e+00,\n",
        "         4.33000000e+00,   4.34000000e+00,   4.35000000e+00,\n",
        "         4.36000000e+00,   4.37000000e+00,   4.38000000e+00,\n",
        "         4.39000000e+00,   4.40000000e+00,   4.41000000e+00,\n",
        "         4.42000000e+00,   4.43000000e+00,   4.44000000e+00,\n",
        "         4.45000000e+00,   4.46000000e+00,   4.47000000e+00,\n",
        "         4.48000000e+00,   4.49000000e+00,   4.50000000e+00,\n",
        "         4.51000000e+00,   4.52000000e+00,   4.53000000e+00,\n",
        "         4.54000000e+00,   4.55000000e+00,   4.56000000e+00,\n",
        "         4.57000000e+00,   4.58000000e+00,   4.59000000e+00,\n",
        "         4.60000000e+00,   4.61000000e+00,   4.62000000e+00,\n",
        "         4.63000000e+00,   4.64000000e+00,   4.65000000e+00,\n",
        "         4.66000000e+00,   4.67000000e+00,   4.68000000e+00,\n",
        "         4.69000000e+00,   4.70000000e+00,   4.71000000e+00,\n",
        "         4.72000000e+00,   4.73000000e+00,   4.74000000e+00,\n",
        "         4.75000000e+00,   4.76000000e+00,   4.77000000e+00,\n",
        "         4.78000000e+00,   4.79000000e+00,   4.80000000e+00,\n",
        "         4.81000000e+00,   4.82000000e+00,   4.83000000e+00,\n",
        "         4.84000000e+00,   4.85000000e+00,   4.86000000e+00,\n",
        "         4.87000000e+00,   4.88000000e+00,   4.89000000e+00,\n",
        "         4.90000000e+00,   4.91000000e+00,   4.92000000e+00,\n",
        "         4.93000000e+00,   4.94000000e+00,   4.95000000e+00,\n",
        "         4.96000000e+00,   4.97000000e+00,   4.98000000e+00,\n",
        "         4.99000000e+00])"
       ]
      }
     ],
     "prompt_number": 14
    },
    {
     "cell_type": "code",
     "collapsed": false,
     "input": [
      "xs, ys = np.meshgrid(points, points)\n",
      "xs"
     ],
     "language": "python",
     "metadata": {},
     "outputs": [
      {
       "metadata": {},
       "output_type": "pyout",
       "prompt_number": 16,
       "text": [
        "array([[-5.  , -4.99, -4.98, ...,  4.97,  4.98,  4.99],\n",
        "       [-5.  , -4.99, -4.98, ...,  4.97,  4.98,  4.99],\n",
        "       [-5.  , -4.99, -4.98, ...,  4.97,  4.98,  4.99],\n",
        "       ..., \n",
        "       [-5.  , -4.99, -4.98, ...,  4.97,  4.98,  4.99],\n",
        "       [-5.  , -4.99, -4.98, ...,  4.97,  4.98,  4.99],\n",
        "       [-5.  , -4.99, -4.98, ...,  4.97,  4.98,  4.99]])"
       ]
      }
     ],
     "prompt_number": 16
    },
    {
     "cell_type": "code",
     "collapsed": false,
     "input": [
      "ys"
     ],
     "language": "python",
     "metadata": {},
     "outputs": [
      {
       "metadata": {},
       "output_type": "pyout",
       "prompt_number": 17,
       "text": [
        "array([[-5.  , -5.  , -5.  , ..., -5.  , -5.  , -5.  ],\n",
        "       [-4.99, -4.99, -4.99, ..., -4.99, -4.99, -4.99],\n",
        "       [-4.98, -4.98, -4.98, ..., -4.98, -4.98, -4.98],\n",
        "       ..., \n",
        "       [ 4.97,  4.97,  4.97, ...,  4.97,  4.97,  4.97],\n",
        "       [ 4.98,  4.98,  4.98, ...,  4.98,  4.98,  4.98],\n",
        "       [ 4.99,  4.99,  4.99, ...,  4.99,  4.99,  4.99]])"
       ]
      }
     ],
     "prompt_number": 17
    },
    {
     "cell_type": "code",
     "collapsed": false,
     "input": [
      "import matplotlib.pyplot as plt\n",
      "%matplotlib inline\n",
      "z = np.sqrt(xs ** 2 + ys ** 2)\n",
      "z"
     ],
     "language": "python",
     "metadata": {},
     "outputs": [
      {
       "metadata": {},
       "output_type": "pyout",
       "prompt_number": 19,
       "text": [
        "array([[ 7.07106781,  7.06400028,  7.05693985, ...,  7.04988652,\n",
        "         7.05693985,  7.06400028],\n",
        "       [ 7.06400028,  7.05692568,  7.04985815, ...,  7.04279774,\n",
        "         7.04985815,  7.05692568],\n",
        "       [ 7.05693985,  7.04985815,  7.04278354, ...,  7.03571603,\n",
        "         7.04278354,  7.04985815],\n",
        "       ..., \n",
        "       [ 7.04988652,  7.04279774,  7.03571603, ...,  7.0286414 ,\n",
        "         7.03571603,  7.04279774],\n",
        "       [ 7.05693985,  7.04985815,  7.04278354, ...,  7.03571603,\n",
        "         7.04278354,  7.04985815],\n",
        "       [ 7.06400028,  7.05692568,  7.04985815, ...,  7.04279774,\n",
        "         7.04985815,  7.05692568]])"
       ]
      }
     ],
     "prompt_number": 19
    },
    {
     "cell_type": "code",
     "collapsed": false,
     "input": [
      "plt.imshow(z, cmap=plt.cm.gray)\n",
      "plt.colorbar()\n",
      "plt.title(\"Image plot of $\\sqrt{x^2 + y^2}$ for a grid of values\")"
     ],
     "language": "python",
     "metadata": {},
     "outputs": [
      {
       "metadata": {},
       "output_type": "pyout",
       "prompt_number": 23,
       "text": [
        "<matplotlib.text.Text at 0x54611d0>"
       ]
      },
      {
       "metadata": {},
       "output_type": "display_data",
       "png": "[encoded data removed]",
       "text": [
        "<matplotlib.figure.Figure at 0x4b9ca10>"
       ]
      }
     ],
     "prompt_number": 23
    },
    {
     "cell_type": "code",
     "collapsed": false,
     "input": [
      "a = [1, 2, 3, 4, 5]\n",
      "b = [6, 7, 8, 9, 10]\n",
      "aa, bb = np.meshgrid(a,b)\n",
      "aa"
     ],
     "language": "python",
     "metadata": {},
     "outputs": [
      {
       "metadata": {},
       "output_type": "pyout",
       "prompt_number": 26,
       "text": [
        "array([[1, 2, 3, 4, 5],\n",
        "       [1, 2, 3, 4, 5],\n",
        "       [1, 2, 3, 4, 5],\n",
        "       [1, 2, 3, 4, 5],\n",
        "       [1, 2, 3, 4, 5]])"
       ]
      }
     ],
     "prompt_number": 26
    },
    {
     "cell_type": "code",
     "collapsed": false,
     "input": [
      "bb"
     ],
     "language": "python",
     "metadata": {},
     "outputs": [
      {
       "metadata": {},
       "output_type": "pyout",
       "prompt_number": 27,
       "text": [
        "array([[ 6,  6,  6,  6,  6],\n",
        "       [ 7,  7,  7,  7,  7],\n",
        "       [ 8,  8,  8,  8,  8],\n",
        "       [ 9,  9,  9,  9,  9],\n",
        "       [10, 10, 10, 10, 10]])"
       ]
      }
     ],
     "prompt_number": 27
    },
    {
     "cell_type": "code",
     "collapsed": false,
     "input": [
      "aaa, bbb = np.meshgrid(a,a)\n",
      "aaa"
     ],
     "language": "python",
     "metadata": {},
     "outputs": [
      {
       "metadata": {},
       "output_type": "pyout",
       "prompt_number": 29,
       "text": [
        "array([[1, 2, 3, 4, 5],\n",
        "       [1, 2, 3, 4, 5],\n",
        "       [1, 2, 3, 4, 5],\n",
        "       [1, 2, 3, 4, 5],\n",
        "       [1, 2, 3, 4, 5]])"
       ]
      }
     ],
     "prompt_number": 29
    },
    {
     "cell_type": "code",
     "collapsed": false,
     "input": [],
     "language": "python",
     "metadata": {},
     "outputs": []
    },
    {
     "cell_type": "code",
     "collapsed": false,
     "input": [
      "bbb"
     ],
     "language": "python",
     "metadata": {},
     "outputs": [
      {
       "metadata": {},
       "output_type": "pyout",
       "prompt_number": 30,
       "text": [
        "array([[1, 1, 1, 1, 1],\n",
        "       [2, 2, 2, 2, 2],\n",
        "       [3, 3, 3, 3, 3],\n",
        "       [4, 4, 4, 4, 4],\n",
        "       [5, 5, 5, 5, 5]])"
       ]
      }
     ],
     "prompt_number": 30
    },
    {
     "cell_type": "code",
     "collapsed": false,
     "input": [
      "a2 = aaa ** 2\n",
      "a2"
     ],
     "language": "python",
     "metadata": {},
     "outputs": [
      {
       "metadata": {},
       "output_type": "pyout",
       "prompt_number": 37,
       "text": [
        "array([[ 1,  4,  9, 16, 25],\n",
        "       [ 1,  4,  9, 16, 25],\n",
        "       [ 1,  4,  9, 16, 25],\n",
        "       [ 1,  4,  9, 16, 25],\n",
        "       [ 1,  4,  9, 16, 25]])"
       ]
      }
     ],
     "prompt_number": 37
    },
    {
     "cell_type": "code",
     "collapsed": false,
     "input": [
      "b2 = bbb ** 2\n",
      "b2"
     ],
     "language": "python",
     "metadata": {},
     "outputs": [
      {
       "metadata": {},
       "output_type": "pyout",
       "prompt_number": 38,
       "text": [
        "array([[ 1,  1,  1,  1,  1],\n",
        "       [ 4,  4,  4,  4,  4],\n",
        "       [ 9,  9,  9,  9,  9],\n",
        "       [16, 16, 16, 16, 16],\n",
        "       [25, 25, 25, 25, 25]])"
       ]
      }
     ],
     "prompt_number": 38
    },
    {
     "cell_type": "code",
     "collapsed": false,
     "input": [
      "a2 + b2"
     ],
     "language": "python",
     "metadata": {},
     "outputs": [
      {
       "metadata": {},
       "output_type": "pyout",
       "prompt_number": 39,
       "text": [
        "array([[ 2,  5, 10, 17, 26],\n",
        "       [ 5,  8, 13, 20, 29],\n",
        "       [10, 13, 18, 25, 34],\n",
        "       [17, 20, 25, 32, 41],\n",
        "       [26, 29, 34, 41, 50]])"
       ]
      }
     ],
     "prompt_number": 39
    },
    {
     "cell_type": "code",
     "collapsed": false,
     "input": [
      "xarr = np.array([1.1, 1.2, 1.3, 1.4, 1.5])\n",
      "yarr = np.array([2.1, 2.2, 2.3, 2.4, 2.5])\n",
      "cond = np.array([True, False, True, True, False])\n",
      "zip(xarr, yarr, cond)"
     ],
     "language": "python",
     "metadata": {},
     "outputs": [
      {
       "metadata": {},
       "output_type": "pyout",
       "prompt_number": 41,
       "text": [
        "[(1.1000000000000001, 2.1000000000000001, True),\n",
        " (1.2, 2.2000000000000002, False),\n",
        " (1.3, 2.2999999999999998, True),\n",
        " (1.3999999999999999, 2.3999999999999999, True),\n",
        " (1.5, 2.5, False)]"
       ]
      }
     ],
     "prompt_number": 41
    },
    {
     "cell_type": "code",
     "collapsed": false,
     "input": [
      "result = [(x if c else y) for x, y, c in zip(xarr, yarr, cond)]\n",
      "result"
     ],
     "language": "python",
     "metadata": {},
     "outputs": [
      {
       "metadata": {},
       "output_type": "pyout",
       "prompt_number": 43,
       "text": [
        "[1.1000000000000001, 2.2000000000000002, 1.3, 1.3999999999999999, 2.5]"
       ]
      }
     ],
     "prompt_number": 43
    },
    {
     "cell_type": "code",
     "collapsed": false,
     "input": [
      "result = np.where(cond, xarr, yarr)\n",
      "result"
     ],
     "language": "python",
     "metadata": {},
     "outputs": [
      {
       "metadata": {},
       "output_type": "pyout",
       "prompt_number": 44,
       "text": [
        "array([ 1.1,  2.2,  1.3,  1.4,  2.5])"
       ]
      }
     ],
     "prompt_number": 44
    },
    {
     "cell_type": "code",
     "collapsed": false,
     "input": [
      "arr = np.random.randn(4, 4)\n",
      "arr"
     ],
     "language": "python",
     "metadata": {},
     "outputs": [
      {
       "metadata": {},
       "output_type": "pyout",
       "prompt_number": 45,
       "text": [
        "array([[-1.10954158, -1.34419857, -1.12247786, -0.09428563],\n",
        "       [-1.92898753,  0.69393797,  1.29420854,  0.11314639],\n",
        "       [ 0.08808309,  0.90053726, -0.93401996,  2.26032477],\n",
        "       [-1.61201641,  0.74984619,  0.23632102, -1.57941902]])"
       ]
      }
     ],
     "prompt_number": 45
    },
    {
     "cell_type": "code",
     "collapsed": false,
     "input": [
      "np.where(arr>0, 2, -2)"
     ],
     "language": "python",
     "metadata": {},
     "outputs": [
      {
       "metadata": {},
       "output_type": "pyout",
       "prompt_number": 46,
       "text": [
        "array([[-2, -2, -2, -2],\n",
        "       [-2,  2,  2,  2],\n",
        "       [ 2,  2, -2,  2],\n",
        "       [-2,  2,  2, -2]])"
       ]
      }
     ],
     "prompt_number": 46
    },
    {
     "cell_type": "code",
     "collapsed": false,
     "input": [
      "np.where(arr > 0, 2, arr) # set only positive values to 2"
     ],
     "language": "python",
     "metadata": {},
     "outputs": [
      {
       "metadata": {},
       "output_type": "pyout",
       "prompt_number": 47,
       "text": [
        "array([[-1.10954158, -1.34419857, -1.12247786, -0.09428563],\n",
        "       [-1.92898753,  2.        ,  2.        ,  2.        ],\n",
        "       [ 2.        ,  2.        , -0.93401996,  2.        ],\n",
        "       [-1.61201641,  2.        ,  2.        , -1.57941902]])"
       ]
      }
     ],
     "prompt_number": 47
    },
    {
     "cell_type": "code",
     "collapsed": false,
     "input": [
      "arr = np.random.randn(5, 4) # normally-distributed data\n",
      "arr.mean()"
     ],
     "language": "python",
     "metadata": {},
     "outputs": [
      {
       "metadata": {},
       "output_type": "pyout",
       "prompt_number": 49,
       "text": [
        "0.41955658239486376"
       ]
      }
     ],
     "prompt_number": 49
    },
    {
     "cell_type": "code",
     "collapsed": false,
     "input": [
      "arr.sum()"
     ],
     "language": "python",
     "metadata": {},
     "outputs": [
      {
       "metadata": {},
       "output_type": "pyout",
       "prompt_number": 50,
       "text": [
        "8.3911316478972751"
       ]
      }
     ],
     "prompt_number": 50
    },
    {
     "cell_type": "code",
     "collapsed": false,
     "input": [
      "arr.mean(axis=1)"
     ],
     "language": "python",
     "metadata": {},
     "outputs": [
      {
       "metadata": {},
       "output_type": "pyout",
       "prompt_number": 56,
       "text": [
        "array([ 0.04755345,  0.46802864,  0.20570884,  0.52704592,  0.84944607])"
       ]
      }
     ],
     "prompt_number": 56
    },
    {
     "cell_type": "code",
     "collapsed": false,
     "input": [
      "arr"
     ],
     "language": "python",
     "metadata": {},
     "outputs": [
      {
       "metadata": {},
       "output_type": "pyout",
       "prompt_number": 57,
       "text": [
        "array([[-1.75936391,  1.07657491,  0.66506362,  0.20793918],\n",
        "       [ 1.53446567,  1.01251658, -0.76391965,  0.08905194],\n",
        "       [ 0.2814781 ,  0.38015961,  1.66984838, -1.50865072],\n",
        "       [-0.33718184,  0.03117274,  1.24224846,  1.1719443 ],\n",
        "       [ 1.9620073 , -0.97102163,  1.64311413,  0.76368447]])"
       ]
      }
     ],
     "prompt_number": 57
    },
    {
     "cell_type": "code",
     "collapsed": false,
     "input": [
      "arr.sum(0)"
     ],
     "language": "python",
     "metadata": {},
     "outputs": [
      {
       "metadata": {},
       "output_type": "pyout",
       "prompt_number": 58,
       "text": [
        "array([ 1.68140533,  1.52940222,  4.45635493,  0.72396917])"
       ]
      }
     ],
     "prompt_number": 58
    },
    {
     "cell_type": "code",
     "collapsed": false,
     "input": [],
     "language": "python",
     "metadata": {},
     "outputs": []
    },
    {
     "cell_type": "code",
     "collapsed": false,
     "input": [
      "arr = np.array([[0, 1, 2], [3, 4, 5], [6, 7, 8]])\n",
      "arr"
     ],
     "language": "python",
     "metadata": {},
     "outputs": [
      {
       "metadata": {},
       "output_type": "pyout",
       "prompt_number": 60,
       "text": [
        "array([[0, 1, 2],\n",
        "       [3, 4, 5],\n",
        "       [6, 7, 8]])"
       ]
      }
     ],
     "prompt_number": 60
    },
    {
     "cell_type": "code",
     "collapsed": false,
     "input": [
      "arr.cumsum(0)"
     ],
     "language": "python",
     "metadata": {},
     "outputs": [
      {
       "metadata": {},
       "output_type": "pyout",
       "prompt_number": 61,
       "text": [
        "array([[ 0,  1,  2],\n",
        "       [ 3,  5,  7],\n",
        "       [ 9, 12, 15]])"
       ]
      }
     ],
     "prompt_number": 61
    },
    {
     "cell_type": "code",
     "collapsed": false,
     "input": [
      "arr.cumsum(1)"
     ],
     "language": "python",
     "metadata": {},
     "outputs": [
      {
       "metadata": {},
       "output_type": "pyout",
       "prompt_number": 62,
       "text": [
        "array([[ 0,  1,  3],\n",
        "       [ 3,  7, 12],\n",
        "       [ 6, 13, 21]])"
       ]
      }
     ],
     "prompt_number": 62
    },
    {
     "cell_type": "code",
     "collapsed": false,
     "input": [
      "arr = np.random.randn(100)\n",
      "arr"
     ],
     "language": "python",
     "metadata": {},
     "outputs": [
      {
       "metadata": {},
       "output_type": "pyout",
       "prompt_number": 66,
       "text": [
        "array([-0.22840069, -0.51013516,  1.15362176, -0.99946109,  0.89990613,\n",
        "        1.11773958,  0.14173141,  0.98372008,  0.01736502,  0.30826418,\n",
        "       -1.55156386, -0.91307378, -1.12348657,  0.12795892, -0.19468568,\n",
        "       -0.40342781,  1.35914385,  0.48635863,  0.69501307,  1.63697717,\n",
        "       -2.34169299,  0.59408526,  1.26336092, -0.10346749,  1.25166645,\n",
        "        1.33923839, -1.28203361, -0.26262673,  0.3520078 ,  0.12689547,\n",
        "       -0.23459666, -0.69503199, -0.32268686, -0.2865192 , -2.71229565,\n",
        "       -0.40511572, -1.73421931,  0.46825698, -0.71496305, -0.94161344,\n",
        "       -0.00939231,  0.48412674,  1.24229719, -0.94367811, -0.16778264,\n",
        "        0.92672992, -0.36042735,  0.60947136, -1.32798876,  1.25891368,\n",
        "       -1.49537624, -0.12484896, -0.20387116,  0.44812805, -1.20374121,\n",
        "        1.08960567, -0.75424961,  0.87728613,  1.33270057,  1.84842446,\n",
        "       -0.54001743,  0.64793486, -1.11712728, -1.39507163, -0.47173579,\n",
        "       -2.81227383,  2.23534972, -1.07774332, -1.99831189, -0.53430886,\n",
        "        0.01661649,  1.45978837, -0.48148856,  0.45517153, -1.72869896,\n",
        "       -0.45566188, -0.99937717, -0.10524592,  0.20992755, -2.10577885,\n",
        "       -0.51189891, -0.48360195,  0.85314807,  0.57813292,  1.9141397 ,\n",
        "       -0.67831961,  0.51468945, -0.00374931,  0.89866828, -0.45594541,\n",
        "       -1.50346307, -0.83292109, -0.40041112,  1.86037591, -0.79385585,\n",
        "        0.15034452, -0.71922047, -2.21830127, -0.21834337,  1.46666835])"
       ]
      }
     ],
     "prompt_number": 66
    },
    {
     "cell_type": "code",
     "collapsed": false,
     "input": [
      "(arr>0).sum()"
     ],
     "language": "python",
     "metadata": {},
     "outputs": [
      {
       "metadata": {},
       "output_type": "pyout",
       "prompt_number": 67,
       "text": [
        "43"
       ]
      }
     ],
     "prompt_number": 67
    },
    {
     "cell_type": "code",
     "collapsed": false,
     "input": [
      "bools = np.array([False, False, True, False])\n",
      "bools.any()"
     ],
     "language": "python",
     "metadata": {},
     "outputs": [
      {
       "metadata": {},
       "output_type": "pyout",
       "prompt_number": 68,
       "text": [
        "True"
       ]
      }
     ],
     "prompt_number": 68
    },
    {
     "cell_type": "code",
     "collapsed": false,
     "input": [
      "bools.all()"
     ],
     "language": "python",
     "metadata": {},
     "outputs": [
      {
       "metadata": {},
       "output_type": "pyout",
       "prompt_number": 69,
       "text": [
        "False"
       ]
      }
     ],
     "prompt_number": 69
    },
    {
     "cell_type": "code",
     "collapsed": false,
     "input": [
      "arr = np.random.randn(8)\n",
      "arr"
     ],
     "language": "python",
     "metadata": {},
     "outputs": [
      {
       "metadata": {},
       "output_type": "pyout",
       "prompt_number": 70,
       "text": [
        "array([-1.01666331,  0.18711409, -1.28983228, -0.69882387,  0.2957974 ,\n",
        "        0.61380361, -0.91127304,  0.30515213])"
       ]
      }
     ],
     "prompt_number": 70
    },
    {
     "cell_type": "code",
     "collapsed": false,
     "input": [
      "arr.sort()\n",
      "arr"
     ],
     "language": "python",
     "metadata": {},
     "outputs": [
      {
       "metadata": {},
       "output_type": "pyout",
       "prompt_number": 73,
       "text": [
        "array([-1.28983228, -1.01666331, -0.91127304, -0.69882387,  0.18711409,\n",
        "        0.2957974 ,  0.30515213,  0.61380361])"
       ]
      }
     ],
     "prompt_number": 73
    },
    {
     "cell_type": "code",
     "collapsed": false,
     "input": [
      "arr = np.random.randn(5, 3)\n",
      "arr"
     ],
     "language": "python",
     "metadata": {},
     "outputs": [
      {
       "metadata": {},
       "output_type": "pyout",
       "prompt_number": 74,
       "text": [
        "array([[-2.44644938, -1.73074735, -1.00089477],\n",
        "       [-0.15782841, -0.31280727,  0.8831028 ],\n",
        "       [-0.22463328, -0.49630292, -0.84280251],\n",
        "       [-0.21012331,  0.74848355, -0.55934755],\n",
        "       [-0.53707852,  0.62565258,  0.39967081]])"
       ]
      }
     ],
     "prompt_number": 74
    },
    {
     "cell_type": "code",
     "collapsed": false,
     "input": [
      "arr.sort(1)\n",
      "arr"
     ],
     "language": "python",
     "metadata": {},
     "outputs": [
      {
       "metadata": {},
       "output_type": "pyout",
       "prompt_number": 75,
       "text": [
        "array([[-2.44644938, -1.73074735, -1.00089477],\n",
        "       [-0.31280727, -0.15782841,  0.8831028 ],\n",
        "       [-0.84280251, -0.49630292, -0.22463328],\n",
        "       [-0.55934755, -0.21012331,  0.74848355],\n",
        "       [-0.53707852,  0.39967081,  0.62565258]])"
       ]
      }
     ],
     "prompt_number": 75
    },
    {
     "cell_type": "code",
     "collapsed": false,
     "input": [
      "arr.sort(0)\n",
      "arr"
     ],
     "language": "python",
     "metadata": {},
     "outputs": [
      {
       "metadata": {},
       "output_type": "pyout",
       "prompt_number": 76,
       "text": [
        "array([[-2.44644938, -1.73074735, -1.00089477],\n",
        "       [-0.84280251, -0.49630292, -0.22463328],\n",
        "       [-0.55934755, -0.21012331,  0.62565258],\n",
        "       [-0.53707852, -0.15782841,  0.74848355],\n",
        "       [-0.31280727,  0.39967081,  0.8831028 ]])"
       ]
      }
     ],
     "prompt_number": 76
    },
    {
     "cell_type": "code",
     "collapsed": false,
     "input": [
      "large_arr = np.random.randn(1000)\n",
      "large_arr.sort()\n",
      "int(0.05 * len(large_arr))"
     ],
     "language": "python",
     "metadata": {},
     "outputs": [
      {
       "metadata": {},
       "output_type": "pyout",
       "prompt_number": 79,
       "text": [
        "50"
       ]
      }
     ],
     "prompt_number": 79
    },
    {
     "cell_type": "code",
     "collapsed": false,
     "input": [
      "large_arr[int(0.05 * len(large_arr))] # 5% quantile\n"
     ],
     "language": "python",
     "metadata": {},
     "outputs": [
      {
       "metadata": {},
       "output_type": "pyout",
       "prompt_number": 80,
       "text": [
        "-1.7206645424593026"
       ]
      }
     ],
     "prompt_number": 80
    },
    {
     "cell_type": "code",
     "collapsed": false,
     "input": [
      "names = np.array(['Bob', 'Joe', 'Will', 'Bob', 'Will', 'Joe', 'Joe'])\n",
      "np.unique(names)"
     ],
     "language": "python",
     "metadata": {},
     "outputs": [
      {
       "metadata": {},
       "output_type": "pyout",
       "prompt_number": 81,
       "text": [
        "array(['Bob', 'Joe', 'Will'], \n",
        "      dtype='|S4')"
       ]
      }
     ],
     "prompt_number": 81
    },
    {
     "cell_type": "code",
     "collapsed": false,
     "input": [
      "sorted(set(names))"
     ],
     "language": "python",
     "metadata": {},
     "outputs": [
      {
       "metadata": {},
       "output_type": "pyout",
       "prompt_number": 82,
       "text": [
        "['Bob', 'Joe', 'Will']"
       ]
      }
     ],
     "prompt_number": 82
    },
    {
     "cell_type": "code",
     "collapsed": false,
     "input": [
      "values = np.array([6, 0, 0, 3, 2, 5, 6])\n",
      "sub = [2, 3, 6]\n",
      "np.in1d(values, sub)"
     ],
     "language": "python",
     "metadata": {},
     "outputs": [
      {
       "metadata": {},
       "output_type": "pyout",
       "prompt_number": 84,
       "text": [
        "array([ True, False, False,  True,  True, False,  True], dtype=bool)"
       ]
      }
     ],
     "prompt_number": 84
    },
    {
     "cell_type": "code",
     "collapsed": false,
     "input": [
      "np.intersect1d(values, sub)"
     ],
     "language": "python",
     "metadata": {},
     "outputs": [
      {
       "metadata": {},
       "output_type": "pyout",
       "prompt_number": 85,
       "text": [
        "array([2, 3, 6])"
       ]
      }
     ],
     "prompt_number": 85
    },
    {
     "cell_type": "code",
     "collapsed": false,
     "input": [
      "np.union1d(values, sub)"
     ],
     "language": "python",
     "metadata": {},
     "outputs": [
      {
       "metadata": {},
       "output_type": "pyout",
       "prompt_number": 87,
       "text": [
        "array([0, 2, 3, 5, 6])"
       ]
      }
     ],
     "prompt_number": 87
    },
    {
     "cell_type": "code",
     "collapsed": false,
     "input": [
      "np.setdiff1d(values, sub)"
     ],
     "language": "python",
     "metadata": {},
     "outputs": [
      {
       "metadata": {},
       "output_type": "pyout",
       "prompt_number": 88,
       "text": [
        "array([0, 5])"
       ]
      }
     ],
     "prompt_number": 88
    },
    {
     "cell_type": "code",
     "collapsed": false,
     "input": [
      "np.setxor1d(x,y)"
     ],
     "language": "python",
     "metadata": {},
     "outputs": [
      {
       "metadata": {},
       "output_type": "pyout",
       "prompt_number": 89,
       "text": [
        "array([ 1.5,  2.5])"
       ]
      }
     ],
     "prompt_number": 89
    },
    {
     "cell_type": "code",
     "collapsed": false,
     "input": [
      "x = np.array([[1., 2., 3.], [4., 5., 6.]])\n",
      "x"
     ],
     "language": "python",
     "metadata": {},
     "outputs": [
      {
       "metadata": {},
       "output_type": "pyout",
       "prompt_number": 92,
       "text": [
        "array([[ 1.,  2.,  3.],\n",
        "       [ 4.,  5.,  6.]])"
       ]
      }
     ],
     "prompt_number": 92
    },
    {
     "cell_type": "code",
     "collapsed": false,
     "input": [
      "y = np.array([[6., 23.], [-1, 7], [8, 9]])\n",
      "y"
     ],
     "language": "python",
     "metadata": {},
     "outputs": [
      {
       "metadata": {},
       "output_type": "pyout",
       "prompt_number": 93,
       "text": [
        "array([[  6.,  23.],\n",
        "       [ -1.,   7.],\n",
        "       [  8.,   9.]])"
       ]
      }
     ],
     "prompt_number": 93
    },
    {
     "cell_type": "code",
     "collapsed": false,
     "input": [
      "x.dot(y) # equivalently np.dot(x, y)"
     ],
     "language": "python",
     "metadata": {},
     "outputs": [
      {
       "metadata": {},
       "output_type": "pyout",
       "prompt_number": 94,
       "text": [
        "array([[  28.,   64.],\n",
        "       [  67.,  181.]])"
       ]
      }
     ],
     "prompt_number": 94
    },
    {
     "cell_type": "code",
     "collapsed": false,
     "input": [
      "np.dot(x, np.ones(3))"
     ],
     "language": "python",
     "metadata": {},
     "outputs": [
      {
       "metadata": {},
       "output_type": "pyout",
       "prompt_number": 95,
       "text": [
        "array([  6.,  15.])"
       ]
      }
     ],
     "prompt_number": 95
    },
    {
     "cell_type": "code",
     "collapsed": false,
     "input": [
      "from numpy.linalg import inv, qr\n",
      "X = np.random.randn(5,5)\n",
      "X\n"
     ],
     "language": "python",
     "metadata": {},
     "outputs": [
      {
       "metadata": {},
       "output_type": "pyout",
       "prompt_number": 96,
       "text": [
        "array([[ 0.11025345,  0.5019499 ,  1.40466899,  0.0204495 ,  2.45655148],\n",
        "       [-0.70386679, -1.06255393, -1.17614903, -0.39818547, -0.94238844],\n",
        "       [-0.7414803 ,  1.40407424, -1.54477297,  0.24681981,  0.18923365],\n",
        "       [ 0.09548895, -1.13905253, -1.26608383,  1.86878306, -0.70369942],\n",
        "       [-0.08197063, -1.22616782,  1.41472288,  1.31625537,  1.18572774]])"
       ]
      }
     ],
     "prompt_number": 96
    },
    {
     "cell_type": "code",
     "collapsed": false,
     "input": [
      "mat = X.T.dot(X)\n",
      "mat"
     ],
     "language": "python",
     "metadata": {},
     "outputs": [
      {
       "metadata": {},
       "output_type": "pyout",
       "prompt_number": 98,
       "text": [
        "array([[ 1.07321464, -0.24611244,  1.89127784,  0.17006597,  0.62945582],\n",
        "       [-0.24611244,  6.15332721, -0.50673238, -2.96268056,  1.84775182],\n",
        "       [ 1.89127784, -0.50673238,  9.34715417, -0.38812978,  6.83512653],\n",
        "       [ 0.17006597, -2.96268056, -0.38812978,  5.4447682 ,  0.71784619],\n",
        "       [ 0.62945582,  1.84775182,  6.83512653,  0.71784619,  8.85969367]])"
       ]
      }
     ],
     "prompt_number": 98
    },
    {
     "cell_type": "code",
     "collapsed": false,
     "input": [
      "inv(mat)"
     ],
     "language": "python",
     "metadata": {},
     "outputs": [
      {
       "metadata": {},
       "output_type": "pyout",
       "prompt_number": 99,
       "text": [
        "array([[ 2.7945946 , -0.6927032 , -1.45857536, -0.71707312,  1.12929018],\n",
        "       [-0.6927032 ,  0.58823735,  0.62541556,  0.46456062, -0.59360609],\n",
        "       [-1.45857536,  0.62541556,  1.18423919,  0.60069067, -0.98910104],\n",
        "       [-0.71707312,  0.46456062,  0.60069067,  0.57496071, -0.55595116],\n",
        "       [ 1.12929018, -0.59360609, -0.98910104, -0.55595116,  0.96456118]])"
       ]
      }
     ],
     "prompt_number": 99
    },
    {
     "cell_type": "code",
     "collapsed": false,
     "input": [
      "mat.dot(inv(mat)) "
     ],
     "language": "python",
     "metadata": {},
     "outputs": [
      {
       "metadata": {},
       "output_type": "pyout",
       "prompt_number": 100,
       "text": [
        "array([[  1.00000000e+00,  -1.11022302e-16,  -1.77635684e-15,\n",
        "         -4.99600361e-16,   9.99200722e-16],\n",
        "       [  8.88178420e-16,   1.00000000e+00,   0.00000000e+00,\n",
        "         -2.22044605e-16,   2.22044605e-16],\n",
        "       [  0.00000000e+00,   8.88178420e-16,   1.00000000e+00,\n",
        "          0.00000000e+00,   8.88178420e-16],\n",
        "       [  8.88178420e-16,   1.66533454e-16,  -1.22124533e-15,\n",
        "          1.00000000e+00,   3.33066907e-16],\n",
        "       [  0.00000000e+00,  -8.88178420e-16,   1.77635684e-15,\n",
        "          0.00000000e+00,   1.00000000e+00]])"
       ]
      }
     ],
     "prompt_number": 100
    },
    {
     "cell_type": "code",
     "collapsed": false,
     "input": [
      "q, r = qr(mat)\n",
      "q"
     ],
     "language": "python",
     "metadata": {},
     "outputs": [
      {
       "metadata": {},
       "output_type": "pyout",
       "prompt_number": 101,
       "text": [
        "array([[-0.46998411, -0.025787  ,  0.65867688, -0.11382706,  0.57588031],\n",
        "       [ 0.10777801, -0.8602703 ,  0.25565721, -0.30220139, -0.30270879],\n",
        "       [-0.82823183, -0.0350694 , -0.11458531,  0.2127489 , -0.50439101],\n",
        "       [-0.0744756 ,  0.41128049,  0.06206459, -0.86085637, -0.2835067 ],\n",
        "       [-0.27565243, -0.2981418 , -0.69555901, -0.33072941,  0.49187694]])"
       ]
      }
     ],
     "prompt_number": 101
    },
    {
     "cell_type": "code",
     "collapsed": false,
     "input": [
      "r"
     ],
     "language": "python",
     "metadata": {},
     "outputs": [
      {
       "metadata": {},
       "output_type": "pyout",
       "prompt_number": 102,
       "text": [
        "array([[ -2.28351263,   0.9098643 , -10.5403088 ,  -0.6811571 ,\n",
        "         -8.25341472],\n",
        "       [  0.        ,  -7.03879213,  -2.13810972,   4.58323907,\n",
        "         -4.19171041],\n",
        "       [  0.        ,   0.        ,  -4.73317837,  -0.76231521,\n",
        "         -6.01409301],\n",
        "       [  0.        ,   0.        ,   0.        ,  -4.13118231,\n",
        "         -2.72400036],\n",
        "       [  0.        ,   0.        ,   0.        ,   0.        ,\n",
        "          0.50994892]])"
       ]
      }
     ],
     "prompt_number": 102
    },
    {
     "cell_type": "code",
     "collapsed": false,
     "input": [
      "samples = np.random.normal(size=(4, 4))\n",
      "samples"
     ],
     "language": "python",
     "metadata": {},
     "outputs": [
      {
       "metadata": {},
       "output_type": "pyout",
       "prompt_number": 104,
       "text": [
        "array([[ 0.21245054, -0.59242842,  0.58546979,  1.16558195],\n",
        "       [-0.63996435,  0.36784778, -0.20077647,  1.58378407],\n",
        "       [-0.73946138, -0.07521797,  0.15395217,  0.41709462],\n",
        "       [-0.62644415,  1.53019585,  0.27016285, -0.30055137]])"
       ]
      }
     ],
     "prompt_number": 104
    },
    {
     "cell_type": "code",
     "collapsed": false,
     "input": [
      "nsteps = 1000\n",
      "draws = np.random.randint(0, 2, size=nsteps)\n",
      "draws"
     ],
     "language": "python",
     "metadata": {},
     "outputs": [
      {
       "metadata": {},
       "output_type": "pyout",
       "prompt_number": 106,
       "text": [
        "array([1, 0, 0, 1, 1, 0, 1, 1, 0, 1, 1, 1, 1, 0, 1, 0, 0, 0, 1, 0, 0, 0, 0,\n",
        "       1, 1, 0, 0, 1, 0, 1, 1, 1, 1, 1, 1, 0, 1, 1, 1, 1, 1, 0, 1, 0, 1, 0,\n",
        "       1, 1, 0, 1, 0, 0, 1, 1, 1, 0, 1, 0, 1, 0, 0, 0, 1, 1, 1, 0, 1, 0, 1,\n",
        "       0, 1, 1, 0, 0, 0, 0, 1, 0, 1, 1, 1, 1, 1, 1, 0, 1, 0, 0, 1, 1, 1, 0,\n",
        "       0, 1, 0, 1, 0, 0, 1, 0, 0, 1, 0, 1, 0, 1, 1, 1, 0, 0, 0, 1, 0, 0, 1,\n",
        "       1, 1, 0, 1, 0, 0, 1, 1, 1, 0, 0, 0, 0, 0, 1, 0, 0, 1, 0, 0, 0, 1, 0,\n",
        "       0, 0, 1, 0, 1, 1, 1, 0, 1, 0, 0, 0, 1, 1, 1, 1, 0, 0, 1, 1, 0, 1, 1,\n",
        "       1, 1, 1, 0, 0, 1, 1, 1, 0, 1, 1, 1, 0, 1, 0, 1, 1, 0, 0, 1, 0, 1, 0,\n",
        "       0, 1, 0, 1, 0, 0, 0, 1, 0, 0, 0, 1, 1, 0, 1, 1, 1, 1, 0, 1, 0, 1, 1,\n",
        "       1, 0, 1, 0, 1, 0, 0, 1, 1, 1, 1, 0, 0, 1, 1, 0, 0, 0, 1, 0, 1, 1, 0,\n",
        "       1, 1, 1, 0, 1, 0, 1, 1, 0, 0, 0, 1, 1, 0, 1, 1, 0, 1, 1, 0, 0, 1, 1,\n",
        "       1, 0, 1, 0, 1, 1, 1, 0, 1, 1, 0, 1, 0, 0, 0, 0, 0, 1, 0, 1, 1, 0, 1,\n",
        "       1, 0, 0, 1, 0, 0, 0, 1, 1, 0, 0, 0, 1, 1, 1, 0, 0, 0, 0, 1, 0, 0, 0,\n",
        "       1, 1, 0, 1, 1, 1, 1, 0, 0, 1, 1, 1, 1, 1, 0, 0, 1, 1, 1, 1, 1, 0, 0,\n",
        "       0, 0, 0, 1, 1, 1, 1, 1, 0, 0, 0, 0, 0, 0, 0, 1, 0, 0, 0, 1, 0, 0, 1,\n",
        "       1, 1, 0, 0, 0, 0, 0, 1, 1, 1, 1, 1, 1, 0, 0, 0, 1, 0, 1, 1, 1, 0, 1,\n",
        "       1, 1, 0, 0, 0, 0, 0, 1, 0, 0, 0, 1, 0, 1, 0, 1, 1, 0, 0, 1, 0, 1, 0,\n",
        "       0, 0, 0, 1, 0, 1, 1, 0, 0, 1, 1, 0, 0, 1, 1, 0, 1, 1, 0, 0, 0, 1, 0,\n",
        "       0, 1, 0, 1, 0, 0, 1, 1, 0, 0, 0, 1, 0, 0, 1, 0, 0, 1, 0, 0, 1, 0, 0,\n",
        "       0, 1, 1, 1, 0, 0, 0, 1, 1, 1, 1, 0, 0, 1, 1, 1, 0, 1, 1, 0, 1, 1, 0,\n",
        "       0, 0, 0, 0, 1, 1, 0, 0, 0, 0, 1, 1, 0, 1, 0, 0, 1, 0, 0, 1, 1, 0, 0,\n",
        "       0, 1, 1, 1, 0, 1, 0, 1, 1, 1, 0, 1, 0, 1, 1, 0, 0, 0, 1, 1, 1, 1, 0,\n",
        "       1, 0, 0, 0, 0, 1, 1, 1, 0, 0, 0, 0, 0, 1, 0, 1, 1, 0, 1, 1, 0, 1, 1,\n",
        "       0, 1, 1, 0, 1, 1, 1, 1, 1, 0, 0, 0, 1, 0, 1, 1, 1, 1, 1, 1, 0, 0, 0,\n",
        "       1, 1, 0, 1, 0, 1, 0, 1, 0, 1, 1, 1, 1, 1, 0, 0, 1, 0, 1, 1, 0, 0, 1,\n",
        "       0, 1, 1, 1, 0, 0, 1, 1, 0, 0, 1, 1, 1, 0, 0, 1, 1, 1, 0, 1, 0, 0, 0,\n",
        "       0, 0, 1, 1, 0, 1, 1, 1, 0, 0, 0, 0, 1, 1, 0, 1, 0, 1, 0, 1, 1, 0, 1,\n",
        "       0, 1, 0, 1, 0, 1, 0, 0, 1, 0, 1, 1, 0, 0, 0, 1, 1, 0, 0, 0, 1, 1, 1,\n",
        "       0, 0, 0, 0, 0, 1, 0, 0, 0, 0, 0, 0, 0, 0, 1, 0, 0, 0, 0, 0, 1, 1, 0,\n",
        "       1, 1, 1, 1, 0, 1, 1, 0, 0, 1, 1, 0, 0, 0, 0, 0, 1, 1, 0, 1, 1, 0, 1,\n",
        "       1, 1, 0, 0, 0, 0, 1, 0, 0, 0, 0, 1, 0, 0, 1, 0, 1, 1, 0, 0, 1, 0, 1,\n",
        "       1, 1, 1, 0, 1, 1, 0, 1, 0, 0, 1, 0, 1, 0, 0, 0, 1, 1, 0, 0, 1, 1, 1,\n",
        "       0, 1, 0, 0, 0, 0, 0, 0, 0, 0, 0, 1, 0, 0, 0, 0, 1, 0, 0, 0, 1, 0, 0,\n",
        "       0, 0, 0, 1, 0, 0, 0, 0, 0, 1, 1, 1, 1, 1, 1, 1, 1, 0, 0, 1, 1, 1, 1,\n",
        "       1, 0, 1, 1, 0, 0, 0, 1, 1, 0, 1, 0, 1, 0, 0, 0, 0, 0, 1, 1, 0, 0, 1,\n",
        "       1, 1, 1, 0, 1, 0, 0, 0, 1, 1, 1, 0, 1, 0, 0, 0, 1, 1, 1, 1, 1, 1, 0,\n",
        "       0, 1, 1, 1, 1, 0, 0, 1, 0, 0, 1, 1, 0, 1, 0, 0, 1, 1, 0, 0, 1, 0, 0,\n",
        "       1, 0, 1, 1, 1, 0, 0, 0, 1, 1, 0, 0, 0, 1, 1, 1, 0, 1, 1, 0, 1, 0, 1,\n",
        "       0, 0, 0, 1, 1, 0, 1, 1, 0, 0, 0, 0, 0, 0, 1, 0, 1, 0, 0, 0, 1, 1, 1,\n",
        "       1, 0, 1, 0, 1, 1, 0, 0, 1, 1, 0, 1, 1, 1, 1, 0, 0, 0, 1, 0, 0, 1, 1,\n",
        "       0, 0, 1, 0, 1, 1, 0, 0, 0, 0, 1, 1, 1, 1, 0, 1, 1, 1, 0, 0, 1, 0, 1,\n",
        "       1, 1, 1, 0, 0, 0, 1, 0, 0, 1, 1, 1, 1, 1, 0, 1, 0, 0, 1, 1, 1, 0, 0,\n",
        "       1, 1, 1, 0, 1, 0, 0, 0, 0, 1, 0, 1, 1, 1, 0, 1, 1, 0, 0, 1, 0, 0, 0,\n",
        "       0, 0, 0, 1, 0, 1, 1, 0, 0, 0, 1])"
       ]
      }
     ],
     "prompt_number": 106
    },
    {
     "cell_type": "code",
     "collapsed": false,
     "input": [
      "steps = np.where(draws > 0, 1, -1)\n",
      "walk = steps.cumsum()\n",
      "walk"
     ],
     "language": "python",
     "metadata": {},
     "outputs": [
      {
       "metadata": {},
       "output_type": "pyout",
       "prompt_number": 108,
       "text": [
        "array([  1,   0,  -1,   0,   1,   0,   1,   2,   1,   2,   3,   4,   5,\n",
        "         4,   5,   4,   3,   2,   3,   2,   1,   0,  -1,   0,   1,   0,\n",
        "        -1,   0,  -1,   0,   1,   2,   3,   4,   5,   4,   5,   6,   7,\n",
        "         8,   9,   8,   9,   8,   9,   8,   9,  10,   9,  10,   9,   8,\n",
        "         9,  10,  11,  10,  11,  10,  11,  10,   9,   8,   9,  10,  11,\n",
        "        10,  11,  10,  11,  10,  11,  12,  11,  10,   9,   8,   9,   8,\n",
        "         9,  10,  11,  12,  13,  14,  13,  14,  13,  12,  13,  14,  15,\n",
        "        14,  13,  14,  13,  14,  13,  12,  13,  12,  11,  12,  11,  12,\n",
        "        11,  12,  13,  14,  13,  12,  11,  12,  11,  10,  11,  12,  13,\n",
        "        12,  13,  12,  11,  12,  13,  14,  13,  12,  11,  10,   9,  10,\n",
        "         9,   8,   9,   8,   7,   6,   7,   6,   5,   4,   5,   4,   5,\n",
        "         6,   7,   6,   7,   6,   5,   4,   5,   6,   7,   8,   7,   6,\n",
        "         7,   8,   7,   8,   9,  10,  11,  12,  11,  10,  11,  12,  13,\n",
        "        12,  13,  14,  15,  14,  15,  14,  15,  16,  15,  14,  15,  14,\n",
        "        15,  14,  13,  14,  13,  14,  13,  12,  11,  12,  11,  10,   9,\n",
        "        10,  11,  10,  11,  12,  13,  14,  13,  14,  13,  14,  15,  16,\n",
        "        15,  16,  15,  16,  15,  14,  15,  16,  17,  18,  17,  16,  17,\n",
        "        18,  17,  16,  15,  16,  15,  16,  17,  16,  17,  18,  19,  18,\n",
        "        19,  18,  19,  20,  19,  18,  17,  18,  19,  18,  19,  20,  19,\n",
        "        20,  21,  20,  19,  20,  21,  22,  21,  22,  21,  22,  23,  24,\n",
        "        23,  24,  25,  24,  25,  24,  23,  22,  21,  20,  21,  20,  21,\n",
        "        22,  21,  22,  23,  22,  21,  22,  21,  20,  19,  20,  21,  20,\n",
        "        19,  18,  19,  20,  21,  20,  19,  18,  17,  18,  17,  16,  15,\n",
        "        16,  17,  16,  17,  18,  19,  20,  19,  18,  19,  20,  21,  22,\n",
        "        23,  22,  21,  22,  23,  24,  25,  26,  25,  24,  23,  22,  21,\n",
        "        22,  23,  24,  25,  26,  25,  24,  23,  22,  21,  20,  19,  20,\n",
        "        19,  18,  17,  18,  17,  16,  17,  18,  19,  18,  17,  16,  15,\n",
        "        14,  15,  16,  17,  18,  19,  20,  19,  18,  17,  18,  17,  18,\n",
        "        19,  20,  19,  20,  21,  22,  21,  20,  19,  18,  17,  18,  17,\n",
        "        16,  15,  16,  15,  16,  15,  16,  17,  16,  15,  16,  15,  16,\n",
        "        15,  14,  13,  12,  13,  12,  13,  14,  13,  12,  13,  14,  13,\n",
        "        12,  13,  14,  13,  14,  15,  14,  13,  12,  13,  12,  11,  12,\n",
        "        11,  12,  11,  10,  11,  12,  11,  10,   9,  10,   9,   8,   9,\n",
        "         8,   7,   8,   7,   6,   7,   6,   5,   4,   5,   6,   7,   6,\n",
        "         5,   4,   5,   6,   7,   8,   7,   6,   7,   8,   9,   8,   9,\n",
        "        10,   9,  10,  11,  10,   9,   8,   7,   6,   7,   8,   7,   6,\n",
        "         5,   4,   5,   6,   5,   6,   5,   4,   5,   4,   3,   4,   5,\n",
        "         4,   3,   2,   3,   4,   5,   4,   5,   4,   5,   6,   7,   6,\n",
        "         7,   6,   7,   8,   7,   6,   5,   6,   7,   8,   9,   8,   9,\n",
        "         8,   7,   6,   5,   6,   7,   8,   7,   6,   5,   4,   3,   4,\n",
        "         3,   4,   5,   4,   5,   6,   5,   6,   7,   6,   7,   8,   7,\n",
        "         8,   9,  10,  11,  12,  11,  10,   9,  10,   9,  10,  11,  12,\n",
        "        13,  14,  15,  14,  13,  12,  13,  14,  13,  14,  13,  14,  13,\n",
        "        14,  13,  14,  15,  16,  17,  18,  17,  16,  17,  16,  17,  18,\n",
        "        17,  16,  17,  16,  17,  18,  19,  18,  17,  18,  19,  18,  17,\n",
        "        18,  19,  20,  19,  18,  19,  20,  21,  20,  21,  20,  19,  18,\n",
        "        17,  16,  17,  18,  17,  18,  19,  20,  19,  18,  17,  16,  17,\n",
        "        18,  17,  18,  17,  18,  17,  18,  19,  18,  19,  18,  19,  18,\n",
        "        19,  18,  19,  18,  17,  18,  17,  18,  19,  18,  17,  16,  17,\n",
        "        18,  17,  16,  15,  16,  17,  18,  17,  16,  15,  14,  13,  14,\n",
        "        13,  12,  11,  10,   9,   8,   7,   6,   7,   6,   5,   4,   3,\n",
        "         2,   3,   4,   3,   4,   5,   6,   7,   6,   7,   8,   7,   6,\n",
        "         7,   8,   7,   6,   5,   4,   3,   4,   5,   4,   5,   6,   5,\n",
        "         6,   7,   8,   7,   6,   5,   4,   5,   4,   3,   2,   1,   2,\n",
        "         1,   0,   1,   0,   1,   2,   1,   0,   1,   0,   1,   2,   3,\n",
        "         4,   3,   4,   5,   4,   5,   4,   3,   4,   3,   4,   3,   2,\n",
        "         1,   2,   3,   2,   1,   2,   3,   4,   3,   4,   3,   2,   1,\n",
        "         0,  -1,  -2,  -3,  -4,  -5,  -4,  -5,  -6,  -7,  -8,  -7,  -8,\n",
        "        -9, -10,  -9, -10, -11, -12, -13, -14, -13, -14, -15, -16, -17,\n",
        "       -18, -17, -16, -15, -14, -13, -12, -11, -10, -11, -12, -11, -10,\n",
        "        -9,  -8,  -7,  -8,  -7,  -6,  -7,  -8,  -9,  -8,  -7,  -8,  -7,\n",
        "        -8,  -7,  -8,  -9, -10, -11, -12, -11, -10, -11, -12, -11, -10,\n",
        "        -9,  -8,  -9,  -8,  -9, -10, -11, -10,  -9,  -8,  -9,  -8,  -9,\n",
        "       -10, -11, -10,  -9,  -8,  -7,  -6,  -5,  -6,  -7,  -6,  -5,  -4,\n",
        "        -3,  -4,  -5,  -4,  -5,  -6,  -5,  -4,  -5,  -4,  -5,  -6,  -5,\n",
        "        -4,  -5,  -6,  -5,  -6,  -7,  -6,  -7,  -6,  -5,  -4,  -5,  -6,\n",
        "        -7,  -6,  -5,  -6,  -7,  -8,  -7,  -6,  -5,  -6,  -5,  -4,  -5,\n",
        "        -4,  -5,  -4,  -5,  -6,  -7,  -6,  -5,  -6,  -5,  -4,  -5,  -6,\n",
        "        -7,  -8,  -9, -10,  -9, -10,  -9, -10, -11, -12, -11, -10,  -9,\n",
        "        -8,  -9,  -8,  -9,  -8,  -7,  -8,  -9,  -8,  -7,  -8,  -7,  -6,\n",
        "        -5,  -4,  -5,  -6,  -7,  -6,  -7,  -8,  -7,  -6,  -7,  -8,  -7,\n",
        "        -8,  -7,  -6,  -7,  -8,  -9, -10,  -9,  -8,  -7,  -6,  -7,  -6,\n",
        "        -5,  -4,  -5,  -6,  -5,  -6,  -5,  -4,  -3,  -2,  -3,  -4,  -5,\n",
        "        -4,  -5,  -6,  -5,  -4,  -3,  -2,  -1,  -2,  -1,  -2,  -3,  -2,\n",
        "        -1,   0,  -1,  -2,  -1,   0,   1,   0,   1,   0,  -1,  -2,  -3,\n",
        "        -2,  -3,  -2,  -1,   0,  -1,   0,   1,   0,  -1,   0,  -1,  -2,\n",
        "        -3,  -4,  -5,  -6,  -5,  -6,  -5,  -4,  -5,  -6,  -7,  -6])"
       ]
      }
     ],
     "prompt_number": 108
    },
    {
     "cell_type": "code",
     "collapsed": false,
     "input": [
      "plt.plot(walk)"
     ],
     "language": "python",
     "metadata": {},
     "outputs": [
      {
       "metadata": {},
       "output_type": "pyout",
       "prompt_number": 111,
       "text": [
        "[<matplotlib.lines.Line2D at 0x5bf2310>]"
       ]
      },
      {
       "metadata": {},
       "output_type": "display_data",
       "png": "[encoded data removed]",
       "text": [
        "<matplotlib.figure.Figure at 0x54748d0>"
       ]
      }
     ],
     "prompt_number": 111
    },
    {
     "cell_type": "code",
     "collapsed": false,
     "input": [
      "draws2 = np.random.randint(0, 2, size=nsteps)\n",
      "draws2"
     ],
     "language": "python",
     "metadata": {},
     "outputs": [
      {
       "metadata": {},
       "output_type": "pyout",
       "prompt_number": 112,
       "text": [
        "array([0, 1, 0, 1, 1, 0, 0, 1, 0, 1, 0, 0, 1, 0, 1, 0, 1, 1, 1, 1, 1, 0, 1,\n",
        "       1, 1, 1, 1, 0, 1, 0, 0, 0, 1, 1, 0, 1, 0, 0, 0, 1, 1, 0, 0, 1, 0, 1,\n",
        "       1, 1, 0, 1, 0, 0, 1, 1, 1, 0, 1, 1, 1, 0, 0, 1, 1, 1, 0, 0, 1, 1, 0,\n",
        "       1, 1, 1, 0, 0, 1, 1, 0, 0, 0, 0, 1, 1, 1, 1, 1, 0, 1, 0, 1, 0, 0, 0,\n",
        "       0, 0, 1, 1, 0, 0, 1, 0, 0, 1, 0, 1, 1, 0, 1, 0, 0, 1, 0, 0, 0, 1, 1,\n",
        "       0, 0, 0, 0, 0, 1, 1, 0, 0, 0, 1, 0, 0, 1, 0, 1, 0, 1, 0, 1, 0, 1, 0,\n",
        "       1, 0, 1, 1, 1, 0, 1, 1, 0, 0, 1, 0, 0, 1, 0, 1, 1, 0, 1, 1, 0, 0, 1,\n",
        "       1, 0, 1, 0, 1, 1, 1, 1, 1, 0, 1, 0, 1, 1, 0, 1, 0, 0, 1, 1, 1, 0, 1,\n",
        "       1, 1, 1, 1, 0, 1, 1, 1, 0, 1, 0, 1, 0, 0, 0, 0, 1, 0, 0, 0, 0, 1, 1,\n",
        "       1, 1, 0, 1, 1, 0, 0, 0, 0, 0, 0, 0, 0, 0, 0, 1, 1, 0, 1, 0, 0, 1, 0,\n",
        "       1, 1, 1, 0, 1, 0, 1, 0, 0, 0, 0, 0, 0, 0, 1, 0, 1, 1, 1, 1, 0, 0, 0,\n",
        "       1, 0, 0, 1, 1, 1, 1, 0, 0, 1, 0, 1, 0, 0, 1, 0, 0, 1, 1, 1, 0, 0, 1,\n",
        "       0, 0, 0, 0, 0, 1, 0, 1, 0, 0, 0, 0, 0, 1, 1, 0, 0, 0, 1, 0, 0, 0, 0,\n",
        "       1, 0, 1, 0, 0, 0, 1, 1, 0, 0, 1, 0, 1, 1, 0, 1, 0, 0, 1, 1, 0, 0, 0,\n",
        "       0, 0, 0, 1, 1, 1, 0, 1, 1, 1, 0, 0, 0, 0, 1, 0, 1, 0, 1, 0, 1, 0, 1,\n",
        "       1, 0, 1, 0, 1, 1, 0, 0, 0, 1, 1, 0, 0, 0, 1, 0, 1, 1, 0, 0, 0, 0, 1,\n",
        "       0, 1, 0, 1, 1, 0, 0, 0, 1, 0, 0, 1, 0, 1, 0, 0, 1, 0, 1, 0, 1, 1, 1,\n",
        "       1, 0, 1, 0, 0, 1, 1, 1, 1, 0, 0, 1, 0, 1, 0, 0, 1, 1, 0, 0, 1, 1, 1,\n",
        "       0, 1, 0, 0, 0, 1, 1, 1, 0, 1, 1, 1, 1, 1, 0, 1, 1, 0, 0, 1, 0, 1, 0,\n",
        "       1, 0, 0, 1, 0, 0, 1, 1, 1, 1, 1, 1, 0, 1, 1, 0, 0, 0, 0, 0, 0, 1, 0,\n",
        "       1, 0, 0, 0, 1, 0, 1, 0, 1, 0, 0, 1, 1, 0, 1, 0, 0, 1, 0, 0, 0, 0, 0,\n",
        "       1, 0, 0, 0, 0, 1, 1, 0, 0, 0, 1, 0, 0, 1, 0, 0, 1, 0, 1, 0, 0, 1, 1,\n",
        "       0, 0, 1, 1, 0, 0, 1, 1, 1, 1, 1, 0, 1, 0, 0, 0, 0, 1, 0, 1, 0, 0, 1,\n",
        "       0, 1, 0, 1, 0, 1, 1, 1, 1, 1, 0, 0, 0, 0, 0, 0, 0, 1, 1, 0, 0, 0, 1,\n",
        "       1, 0, 1, 1, 1, 1, 1, 0, 1, 1, 1, 0, 1, 1, 1, 0, 0, 0, 1, 0, 1, 0, 1,\n",
        "       0, 1, 1, 1, 0, 0, 0, 1, 1, 1, 1, 0, 0, 1, 0, 1, 1, 0, 0, 1, 0, 1, 0,\n",
        "       1, 1, 1, 1, 0, 0, 1, 0, 1, 0, 1, 0, 0, 1, 1, 1, 1, 0, 1, 0, 0, 0, 1,\n",
        "       0, 0, 1, 0, 1, 0, 1, 1, 1, 1, 1, 1, 1, 1, 1, 0, 0, 1, 1, 0, 1, 1, 1,\n",
        "       0, 1, 0, 0, 1, 1, 1, 0, 0, 1, 1, 0, 1, 1, 1, 0, 1, 1, 0, 0, 0, 1, 0,\n",
        "       0, 0, 1, 1, 0, 1, 1, 0, 1, 0, 1, 1, 0, 0, 0, 0, 1, 0, 1, 0, 0, 1, 1,\n",
        "       0, 1, 1, 1, 0, 0, 0, 0, 0, 0, 0, 0, 0, 1, 1, 1, 0, 0, 1, 0, 1, 1, 1,\n",
        "       0, 0, 1, 1, 0, 1, 1, 1, 0, 0, 0, 1, 1, 0, 1, 1, 0, 0, 1, 0, 1, 0, 0,\n",
        "       1, 1, 1, 1, 1, 0, 0, 1, 1, 1, 1, 0, 1, 1, 0, 1, 1, 1, 0, 1, 1, 0, 1,\n",
        "       0, 1, 0, 0, 1, 1, 1, 1, 1, 1, 1, 0, 0, 0, 1, 0, 1, 1, 0, 1, 0, 0, 1,\n",
        "       0, 0, 0, 0, 1, 0, 1, 1, 1, 0, 1, 0, 1, 1, 0, 0, 1, 1, 0, 0, 1, 1, 1,\n",
        "       1, 0, 1, 1, 0, 1, 0, 1, 0, 0, 0, 1, 0, 1, 1, 0, 1, 0, 0, 1, 0, 1, 0,\n",
        "       1, 1, 0, 1, 1, 1, 1, 1, 0, 1, 1, 1, 0, 0, 0, 1, 0, 1, 0, 0, 0, 0, 1,\n",
        "       1, 0, 0, 0, 1, 1, 0, 0, 1, 0, 0, 0, 1, 0, 0, 0, 1, 1, 1, 0, 1, 1, 1,\n",
        "       0, 0, 1, 0, 1, 0, 0, 1, 1, 1, 0, 0, 1, 1, 1, 0, 1, 0, 0, 0, 1, 0, 1,\n",
        "       1, 0, 1, 0, 0, 0, 0, 0, 1, 0, 1, 1, 0, 0, 0, 0, 0, 1, 1, 1, 1, 1, 0,\n",
        "       1, 0, 0, 1, 1, 0, 1, 0, 0, 1, 1, 0, 0, 0, 0, 0, 0, 1, 0, 1, 0, 1, 1,\n",
        "       0, 0, 1, 1, 1, 1, 1, 0, 0, 1, 0, 0, 0, 0, 1, 0, 0, 0, 1, 1, 0, 0, 1,\n",
        "       0, 1, 0, 1, 1, 0, 0, 0, 0, 0, 1, 0, 0, 1, 0, 0, 0, 0, 1, 1, 1, 0, 1,\n",
        "       1, 0, 1, 0, 1, 0, 1, 1, 0, 1, 1])"
       ]
      }
     ],
     "prompt_number": 112
    },
    {
     "cell_type": "code",
     "collapsed": false,
     "input": [
      "walk2 = np.where(draws2>0, 1, -1).cumsum()\n",
      "plt.plot(walk, walk2)"
     ],
     "language": "python",
     "metadata": {},
     "outputs": [
      {
       "metadata": {},
       "output_type": "pyout",
       "prompt_number": 116,
       "text": [
        "[<matplotlib.lines.Line2D at 0x71b8790>]"
       ]
      },
      {
       "metadata": {},
       "output_type": "display_data",
       "png": "[encoded data removed]",
       "text": [
        "<matplotlib.figure.Figure at 0x5474090>"
       ]
      }
     ],
     "prompt_number": 116
    },
    {
     "cell_type": "code",
     "collapsed": false,
     "input": [
      "(np.abs(walk) >= 10).argmax()"
     ],
     "language": "python",
     "metadata": {},
     "outputs": [
      {
       "metadata": {},
       "output_type": "pyout",
       "prompt_number": 117,
       "text": [
        "47"
       ]
      }
     ],
     "prompt_number": 117
    },
    {
     "cell_type": "code",
     "collapsed": false,
     "input": [
      "nwalks = 5000\n",
      "nsteps = 1000\n",
      "draws = np.random.randint(0, 2, size=(nwalks, nsteps)) # 0 or 1\n",
      "steps = np.where(draws > 0, 1, -1)\n",
      "walks = steps.cumsum(1)\n",
      "walks"
     ],
     "language": "python",
     "metadata": {},
     "outputs": [
      {
       "metadata": {},
       "output_type": "pyout",
       "prompt_number": 120,
       "text": [
        "array([[  1,   0,  -1, ..., -36, -35, -34],\n",
        "       [ -1,   0,   1, ...,  28,  27,  28],\n",
        "       [  1,   2,   1, ...,  -4,  -3,  -4],\n",
        "       ..., \n",
        "       [ -1,  -2,  -1, ..., -14, -15, -14],\n",
        "       [  1,   2,   3, ...,  10,   9,  10],\n",
        "       [ -1,  -2,  -1, ...,  12,  13,  14]])"
       ]
      }
     ],
     "prompt_number": 120
    },
    {
     "cell_type": "code",
     "collapsed": false,
     "input": [
      "np.abs(walks) >= 30"
     ],
     "language": "python",
     "metadata": {},
     "outputs": [
      {
       "metadata": {},
       "output_type": "pyout",
       "prompt_number": 122,
       "text": [
        "array([[False, False, False, ...,  True,  True,  True],\n",
        "       [False, False, False, ..., False, False, False],\n",
        "       [False, False, False, ..., False, False, False],\n",
        "       ..., \n",
        "       [False, False, False, ..., False, False, False],\n",
        "       [False, False, False, ..., False, False, False],\n",
        "       [False, False, False, ..., False, False, False]], dtype=bool)"
       ]
      }
     ],
     "prompt_number": 122
    },
    {
     "cell_type": "code",
     "collapsed": false,
     "input": [
      "hits30 = (np.abs(walks) >= 30).any(1)\n",
      "hits30"
     ],
     "language": "python",
     "metadata": {},
     "outputs": [
      {
       "metadata": {},
       "output_type": "pyout",
       "prompt_number": 125,
       "text": [
        "array([ True,  True, False, ..., False, False, False], dtype=bool)"
       ]
      }
     ],
     "prompt_number": 125
    },
    {
     "cell_type": "code",
     "collapsed": false,
     "input": [
      "hits30.sum()"
     ],
     "language": "python",
     "metadata": {},
     "outputs": [
      {
       "metadata": {},
       "output_type": "pyout",
       "prompt_number": 126,
       "text": [
        "3399"
       ]
      }
     ],
     "prompt_number": 126
    },
    {
     "cell_type": "code",
     "collapsed": false,
     "input": [
      "(np.abs(walks[hits30]) > 30).argmax(1).mean()"
     ],
     "language": "python",
     "metadata": {},
     "outputs": [
      {
       "metadata": {},
       "output_type": "pyout",
       "prompt_number": 130,
       "text": [
        "492.22359517505146"
       ]
      }
     ],
     "prompt_number": 130
    }
   ],
   "metadata": {}
  }
 ]
}